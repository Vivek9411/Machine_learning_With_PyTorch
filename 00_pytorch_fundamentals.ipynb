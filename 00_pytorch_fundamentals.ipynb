{
  "nbformat": 4,
  "nbformat_minor": 0,
  "metadata": {
    "colab": {
      "provenance": [],
      "gpuType": "T4",
      "authorship_tag": "ABX9TyMUYHugU0IaAXQSvXHSPVL3"
    },
    "kernelspec": {
      "name": "python3",
      "display_name": "Python 3"
    },
    "language_info": {
      "name": "python"
    },
    "accelerator": "GPU"
  },
  "cells": [
    {
      "cell_type": "code",
      "execution_count": null,
      "metadata": {
        "colab": {
          "base_uri": "https://localhost:8080/"
        },
        "id": "T30kukX0NSJu",
        "outputId": "5d935f5b-eb0f-406e-cdf6-66151c3c39a6"
      },
      "outputs": [
        {
          "output_type": "stream",
          "name": "stdout",
          "text": [
            "2.5.1+cu124\n"
          ]
        }
      ],
      "source": [
        "import torch\n",
        "import pandas as pd\n",
        "import numpy as np\n",
        "import matplotlib.pyplot as plt\n",
        "print(torch.__version__)"
      ]
    },
    {
      "cell_type": "markdown",
      "source": [
        "# Introduction to Tensor"
      ],
      "metadata": {
        "id": "dCCB-7BMO99c"
      }
    },
    {
      "cell_type": "markdown",
      "source": [
        "## creating torch.Tensor()"
      ],
      "metadata": {
        "id": "qIZnpiIIPXe6"
      }
    },
    {
      "cell_type": "code",
      "source": [
        "#scaler\n",
        "scalar = torch.tensor(7)\n",
        "scalar"
      ],
      "metadata": {
        "id": "ESJxRvYpOi-I",
        "colab": {
          "base_uri": "https://localhost:8080/"
        },
        "outputId": "90c86661-af86-47cf-b0b5-3266c5ff8b72"
      },
      "execution_count": null,
      "outputs": [
        {
          "output_type": "execute_result",
          "data": {
            "text/plain": [
              "tensor(7)"
            ]
          },
          "metadata": {},
          "execution_count": 3
        }
      ]
    },
    {
      "cell_type": "code",
      "source": [
        "scalar.ndim"
      ],
      "metadata": {
        "id": "lv_3WgAWPeKp",
        "colab": {
          "base_uri": "https://localhost:8080/"
        },
        "outputId": "f3a91410-3ccb-4d32-f3fc-71b2bb5d9ac8"
      },
      "execution_count": null,
      "outputs": [
        {
          "output_type": "execute_result",
          "data": {
            "text/plain": [
              "0"
            ]
          },
          "metadata": {},
          "execution_count": 4
        }
      ]
    },
    {
      "cell_type": "code",
      "source": [
        "scalar.item()"
      ],
      "metadata": {
        "colab": {
          "base_uri": "https://localhost:8080/"
        },
        "id": "JkQT2bnTR3LF",
        "outputId": "8d153b51-44e9-4b0f-d368-f96d074cfb0f"
      },
      "execution_count": null,
      "outputs": [
        {
          "output_type": "execute_result",
          "data": {
            "text/plain": [
              "7"
            ]
          },
          "metadata": {},
          "execution_count": 5
        }
      ]
    },
    {
      "cell_type": "code",
      "source": [
        "# vector\n",
        "vector = torch.tensor([7,7,7])\n",
        "vector"
      ],
      "metadata": {
        "colab": {
          "base_uri": "https://localhost:8080/"
        },
        "id": "clr7-aptR-Of",
        "outputId": "f74a60d3-9269-4367-fa84-d98d804ce99f"
      },
      "execution_count": null,
      "outputs": [
        {
          "output_type": "execute_result",
          "data": {
            "text/plain": [
              "tensor([7, 7, 7])"
            ]
          },
          "metadata": {},
          "execution_count": 6
        }
      ]
    },
    {
      "cell_type": "code",
      "source": [
        "vector.ndim"
      ],
      "metadata": {
        "colab": {
          "base_uri": "https://localhost:8080/"
        },
        "id": "1m-BX4OwSFzX",
        "outputId": "3c3370e2-7281-46a1-8f2e-22540e2ebc5c"
      },
      "execution_count": null,
      "outputs": [
        {
          "output_type": "execute_result",
          "data": {
            "text/plain": [
              "1"
            ]
          },
          "metadata": {},
          "execution_count": 7
        }
      ]
    },
    {
      "cell_type": "code",
      "source": [
        "vector.shape"
      ],
      "metadata": {
        "colab": {
          "base_uri": "https://localhost:8080/"
        },
        "id": "As-ojrrzSKQu",
        "outputId": "5592b7a7-0bc4-4be0-9709-7eea2773fd7f"
      },
      "execution_count": null,
      "outputs": [
        {
          "output_type": "execute_result",
          "data": {
            "text/plain": [
              "torch.Size([3])"
            ]
          },
          "metadata": {},
          "execution_count": 8
        }
      ]
    },
    {
      "cell_type": "code",
      "source": [
        "# MATRIX\n",
        "MATRIX = torch.tensor([[7,8],\n",
        "                       [9,10]])\n",
        "MATRIX"
      ],
      "metadata": {
        "colab": {
          "base_uri": "https://localhost:8080/"
        },
        "id": "GwowXOJMSRNv",
        "outputId": "b3b57c1b-cfdc-4b62-ba0f-15c5b69aeb4a"
      },
      "execution_count": null,
      "outputs": [
        {
          "output_type": "execute_result",
          "data": {
            "text/plain": [
              "tensor([[ 7,  8],\n",
              "        [ 9, 10]])"
            ]
          },
          "metadata": {},
          "execution_count": 9
        }
      ]
    },
    {
      "cell_type": "code",
      "source": [
        "MATRIX.ndim"
      ],
      "metadata": {
        "colab": {
          "base_uri": "https://localhost:8080/"
        },
        "id": "6CW5TiSRSg3M",
        "outputId": "7809d93c-f5f5-46c6-d57b-793558dc8ca0"
      },
      "execution_count": null,
      "outputs": [
        {
          "output_type": "execute_result",
          "data": {
            "text/plain": [
              "2"
            ]
          },
          "metadata": {},
          "execution_count": 10
        }
      ]
    },
    {
      "cell_type": "code",
      "source": [
        "MATRIX.shape"
      ],
      "metadata": {
        "colab": {
          "base_uri": "https://localhost:8080/"
        },
        "id": "ByckNUB_Sn8A",
        "outputId": "dc3af678-a83d-45c5-f484-2406a5861939"
      },
      "execution_count": null,
      "outputs": [
        {
          "output_type": "execute_result",
          "data": {
            "text/plain": [
              "torch.Size([2, 2])"
            ]
          },
          "metadata": {},
          "execution_count": 11
        }
      ]
    },
    {
      "cell_type": "code",
      "source": [
        "# Tensor\n",
        "TENSOR = torch.tensor([[[1,2,3],\n",
        "                        [3,6,9],\n",
        "                        [2,3,5]]])\n",
        "TENSOR"
      ],
      "metadata": {
        "colab": {
          "base_uri": "https://localhost:8080/"
        },
        "id": "kdMcXEUeSrNE",
        "outputId": "c5e4e4a9-a71e-4c2d-db12-ebd71049ee0e"
      },
      "execution_count": null,
      "outputs": [
        {
          "output_type": "execute_result",
          "data": {
            "text/plain": [
              "tensor([[[1, 2, 3],\n",
              "         [3, 6, 9],\n",
              "         [2, 3, 5]]])"
            ]
          },
          "metadata": {},
          "execution_count": 12
        }
      ]
    },
    {
      "cell_type": "code",
      "source": [
        "TENSOR.ndim"
      ],
      "metadata": {
        "colab": {
          "base_uri": "https://localhost:8080/"
        },
        "id": "SrdkN-BlTGVZ",
        "outputId": "abd0b01e-22f2-4cd2-bd2a-0066acf43841"
      },
      "execution_count": null,
      "outputs": [
        {
          "output_type": "execute_result",
          "data": {
            "text/plain": [
              "3"
            ]
          },
          "metadata": {},
          "execution_count": 13
        }
      ]
    },
    {
      "cell_type": "code",
      "source": [
        "TENSOR.shape"
      ],
      "metadata": {
        "colab": {
          "base_uri": "https://localhost:8080/"
        },
        "id": "BNThWVNWTIgS",
        "outputId": "62b92364-2cb7-492c-d997-f7a90e486261"
      },
      "execution_count": null,
      "outputs": [
        {
          "output_type": "execute_result",
          "data": {
            "text/plain": [
              "torch.Size([1, 3, 3])"
            ]
          },
          "metadata": {},
          "execution_count": 14
        }
      ]
    },
    {
      "cell_type": "markdown",
      "source": [
        "one 3*3  tensor"
      ],
      "metadata": {
        "id": "8a-aNmRQTUrp"
      }
    },
    {
      "cell_type": "markdown",
      "source": [
        "# Day 2"
      ],
      "metadata": {
        "id": "QViuMGNxTgcg"
      }
    },
    {
      "cell_type": "markdown",
      "source": [
        "## Random tensors\n",
        "\n",
        "why ransom tensors?\n",
        "\n",
        " Random tensors are important because the way many neural network learn is that they start with tensor full of random numbers and then adjust those random numbers to be better represent the data.\n",
        "\n",
        " `Start with random numbers -> look at data -> update random numbers -> look at data -> update random numbers`"
      ],
      "metadata": {
        "id": "CU0AEMIVTKo4"
      }
    },
    {
      "cell_type": "code",
      "source": [
        "# Create a random tensor of size(3,4)\n",
        "random_tensor  = torch.rand((3,4))\n",
        "random_tensor"
      ],
      "metadata": {
        "colab": {
          "base_uri": "https://localhost:8080/"
        },
        "id": "IwCzsGhuT62a",
        "outputId": "c4717fe5-ff44-40dd-a7bc-1eb7b8ea7f45"
      },
      "execution_count": null,
      "outputs": [
        {
          "output_type": "execute_result",
          "data": {
            "text/plain": [
              "tensor([[0.8369, 0.7456, 0.0557, 0.2250],\n",
              "        [0.5332, 0.7677, 0.9065, 0.8122],\n",
              "        [0.1293, 0.3509, 0.9433, 0.2374]])"
            ]
          },
          "metadata": {},
          "execution_count": 15
        }
      ]
    },
    {
      "cell_type": "code",
      "source": [
        "# create a random tensor with similar shape to an image\n",
        "random_image_size_tensor = torch.rand(size=(224, 224, 3)) # height, width, colour channels"
      ],
      "metadata": {
        "id": "hWUFLB30VCP5"
      },
      "execution_count": null,
      "outputs": []
    },
    {
      "cell_type": "code",
      "source": [
        "random_image_size_tensor"
      ],
      "metadata": {
        "colab": {
          "base_uri": "https://localhost:8080/"
        },
        "id": "N9kkWg25V8ZF",
        "outputId": "297f6294-3c7d-47d8-b1bb-34e5bca2aedf"
      },
      "execution_count": null,
      "outputs": [
        {
          "output_type": "execute_result",
          "data": {
            "text/plain": [
              "tensor([[[0.3292, 0.6938, 0.8491],\n",
              "         [0.9290, 0.1490, 0.5145],\n",
              "         [0.9518, 0.3026, 0.2126],\n",
              "         ...,\n",
              "         [0.8112, 0.0264, 0.3478],\n",
              "         [0.0738, 0.9429, 0.9178],\n",
              "         [0.2188, 0.8845, 0.4279]],\n",
              "\n",
              "        [[0.7906, 0.2064, 0.6527],\n",
              "         [0.3402, 0.3969, 0.8017],\n",
              "         [0.8919, 0.1980, 0.3271],\n",
              "         ...,\n",
              "         [0.8101, 0.5584, 0.6383],\n",
              "         [0.4603, 0.1389, 0.4828],\n",
              "         [0.7262, 0.4040, 0.5600]],\n",
              "\n",
              "        [[0.4513, 0.1634, 0.1512],\n",
              "         [0.8961, 0.4255, 0.4348],\n",
              "         [0.9985, 0.1440, 0.8890],\n",
              "         ...,\n",
              "         [0.3330, 0.1368, 0.6745],\n",
              "         [0.5405, 0.2257, 0.3823],\n",
              "         [0.1949, 0.8988, 0.3238]],\n",
              "\n",
              "        ...,\n",
              "\n",
              "        [[0.5891, 0.6049, 0.2436],\n",
              "         [0.4268, 0.3269, 0.9682],\n",
              "         [0.1586, 0.2828, 0.0286],\n",
              "         ...,\n",
              "         [0.3557, 0.1123, 0.8209],\n",
              "         [0.6755, 0.0694, 0.2239],\n",
              "         [0.5493, 0.1818, 0.1355]],\n",
              "\n",
              "        [[0.2106, 0.5021, 0.5047],\n",
              "         [0.9712, 0.6275, 0.6839],\n",
              "         [0.1038, 0.9557, 0.7487],\n",
              "         ...,\n",
              "         [0.1712, 0.0905, 0.1185],\n",
              "         [0.9599, 0.3165, 0.1716],\n",
              "         [0.1063, 0.3034, 0.2013]],\n",
              "\n",
              "        [[0.1353, 0.5540, 0.7432],\n",
              "         [0.0772, 0.6919, 0.6798],\n",
              "         [0.1452, 0.3511, 0.2311],\n",
              "         ...,\n",
              "         [0.8147, 0.5935, 0.0241],\n",
              "         [0.4888, 0.4899, 0.6837],\n",
              "         [0.9196, 0.0913, 0.9031]]])"
            ]
          },
          "metadata": {},
          "execution_count": 17
        }
      ]
    },
    {
      "cell_type": "markdown",
      "source": [
        " # Create tensors with zeros and ones"
      ],
      "metadata": {
        "id": "11FTzJv5V-rf"
      }
    },
    {
      "cell_type": "code",
      "source": [
        "### create a tensor of  all zeros\n",
        "zero =torch.zeros(size=(3,5))\n",
        "zero.ndim, zero.shape"
      ],
      "metadata": {
        "colab": {
          "base_uri": "https://localhost:8080/"
        },
        "id": "-FDTr5hDW2wF",
        "outputId": "7b0f2bd2-fa46-476b-ac23-a669e23dfa60"
      },
      "execution_count": null,
      "outputs": [
        {
          "output_type": "execute_result",
          "data": {
            "text/plain": [
              "(2, torch.Size([3, 5]))"
            ]
          },
          "metadata": {},
          "execution_count": 18
        }
      ]
    },
    {
      "cell_type": "code",
      "source": [
        "zero"
      ],
      "metadata": {
        "colab": {
          "base_uri": "https://localhost:8080/"
        },
        "id": "Rmckup2kXI1W",
        "outputId": "1cea9f70-715a-45cc-f0d5-308d7e749d8a"
      },
      "execution_count": null,
      "outputs": [
        {
          "output_type": "execute_result",
          "data": {
            "text/plain": [
              "tensor([[0., 0., 0., 0., 0.],\n",
              "        [0., 0., 0., 0., 0.],\n",
              "        [0., 0., 0., 0., 0.]])"
            ]
          },
          "metadata": {},
          "execution_count": 19
        }
      ]
    },
    {
      "cell_type": "code",
      "source": [
        "one  = torch.ones(size=(3,5))\n",
        "one.ndim, one.shape"
      ],
      "metadata": {
        "colab": {
          "base_uri": "https://localhost:8080/"
        },
        "id": "-oLNytKkXJ86",
        "outputId": "afe822bc-6f74-4f62-cd21-1e50d8e6f142"
      },
      "execution_count": null,
      "outputs": [
        {
          "output_type": "execute_result",
          "data": {
            "text/plain": [
              "(2, torch.Size([3, 5]))"
            ]
          },
          "metadata": {},
          "execution_count": 20
        }
      ]
    },
    {
      "cell_type": "code",
      "source": [
        "t = one*zero\n",
        "t"
      ],
      "metadata": {
        "colab": {
          "base_uri": "https://localhost:8080/"
        },
        "id": "NdpVSG5YtL0D",
        "outputId": "53c578c4-0f56-4584-81ad-8523b8ddb77e"
      },
      "execution_count": null,
      "outputs": [
        {
          "output_type": "execute_result",
          "data": {
            "text/plain": [
              "tensor([[0., 0., 0., 0., 0.],\n",
              "        [0., 0., 0., 0., 0.],\n",
              "        [0., 0., 0., 0., 0.]])"
            ]
          },
          "metadata": {},
          "execution_count": 21
        }
      ]
    },
    {
      "cell_type": "code",
      "source": [
        "# t= torch.matmul(one, zero)"
      ],
      "metadata": {
        "id": "q5l3eluftOE4"
      },
      "execution_count": null,
      "outputs": []
    },
    {
      "cell_type": "code",
      "source": [
        "t"
      ],
      "metadata": {
        "colab": {
          "base_uri": "https://localhost:8080/"
        },
        "id": "xlObs9Vvtbhh",
        "outputId": "90bf34b8-3878-422c-b1d8-9d8ddbefc9af"
      },
      "execution_count": null,
      "outputs": [
        {
          "output_type": "execute_result",
          "data": {
            "text/plain": [
              "tensor([[0., 0., 0., 0., 0.],\n",
              "        [0., 0., 0., 0., 0.],\n",
              "        [0., 0., 0., 0., 0.]])"
            ]
          },
          "metadata": {},
          "execution_count": 23
        }
      ]
    },
    {
      "cell_type": "markdown",
      "source": [
        "#### range of tensors use a arange(start, end, step)"
      ],
      "metadata": {
        "id": "Ica0xzRnuXjd"
      }
    },
    {
      "cell_type": "code",
      "source": [
        "# roech.range is deprecated\n",
        "torch.range(0,10)\n"
      ],
      "metadata": {
        "colab": {
          "base_uri": "https://localhost:8080/"
        },
        "id": "5wtIsZPduJg2",
        "outputId": "f9cce08d-43fe-449d-8e8f-4f78d5da7159"
      },
      "execution_count": null,
      "outputs": [
        {
          "output_type": "stream",
          "name": "stderr",
          "text": [
            "<ipython-input-24-410628d774cb>:2: UserWarning: torch.range is deprecated and will be removed in a future release because its behavior is inconsistent with Python's range builtin. Instead, use torch.arange, which produces values in [start, end).\n",
            "  torch.range(0,10)\n"
          ]
        },
        {
          "output_type": "execute_result",
          "data": {
            "text/plain": [
              "tensor([ 0.,  1.,  2.,  3.,  4.,  5.,  6.,  7.,  8.,  9., 10.])"
            ]
          },
          "metadata": {},
          "execution_count": 24
        }
      ]
    },
    {
      "cell_type": "code",
      "source": [
        "range_vector = torch.arange(1,11,1)"
      ],
      "metadata": {
        "id": "nFbOxka2uh_5"
      },
      "execution_count": null,
      "outputs": []
    },
    {
      "cell_type": "code",
      "source": [
        "range_vector"
      ],
      "metadata": {
        "colab": {
          "base_uri": "https://localhost:8080/"
        },
        "id": "xytBNkjau0lx",
        "outputId": "ce116d3f-839f-47ef-857b-a65746d612f3"
      },
      "execution_count": null,
      "outputs": [
        {
          "output_type": "execute_result",
          "data": {
            "text/plain": [
              "tensor([ 1,  2,  3,  4,  5,  6,  7,  8,  9, 10])"
            ]
          },
          "metadata": {},
          "execution_count": 26
        }
      ]
    },
    {
      "cell_type": "code",
      "source": [
        "# creating tensor like\n",
        "ten_zeros = torch.zeros_like(input=range_vector)"
      ],
      "metadata": {
        "id": "kCFZZIwku2eY"
      },
      "execution_count": null,
      "outputs": []
    },
    {
      "cell_type": "code",
      "source": [
        "ten_zeros"
      ],
      "metadata": {
        "colab": {
          "base_uri": "https://localhost:8080/"
        },
        "id": "LVut1u-GvXcQ",
        "outputId": "a68a08bd-461d-4097-a888-5b7c6aa1ed67"
      },
      "execution_count": null,
      "outputs": [
        {
          "output_type": "execute_result",
          "data": {
            "text/plain": [
              "tensor([0, 0, 0, 0, 0, 0, 0, 0, 0, 0])"
            ]
          },
          "metadata": {},
          "execution_count": 28
        }
      ]
    },
    {
      "cell_type": "markdown",
      "source": [
        "### tensor datatypes\n",
        "#### default datatype is float32\n",
        "\n",
        "**Note:** Tensor datatypes is one on the 3 big errors you'll run into with pytorch & deep Learning:\n",
        "1. Tensors not right Datatypes\n",
        "2. Tensors not right shape\n",
        "3. Tensors not on right device"
      ],
      "metadata": {
        "id": "8u1tC5vgvu5i"
      }
    },
    {
      "cell_type": "code",
      "source": [
        "float_32_tensor = torch.tensor([3.0,6.0,9.0], dtype = None)\n",
        "float_32_tensor"
      ],
      "metadata": {
        "colab": {
          "base_uri": "https://localhost:8080/"
        },
        "id": "pjAi5TibvZMw",
        "outputId": "1decb2b2-d949-4cf3-9070-cbe3b7c0fb3e"
      },
      "execution_count": null,
      "outputs": [
        {
          "output_type": "execute_result",
          "data": {
            "text/plain": [
              "tensor([3., 6., 9.])"
            ]
          },
          "metadata": {},
          "execution_count": 29
        }
      ]
    },
    {
      "cell_type": "code",
      "source": [
        "float_32_tensor.dtype"
      ],
      "metadata": {
        "colab": {
          "base_uri": "https://localhost:8080/"
        },
        "id": "H1qHp51bv8xX",
        "outputId": "3bcfbb6c-07b4-46c3-99fd-a89299fa555d"
      },
      "execution_count": null,
      "outputs": [
        {
          "output_type": "execute_result",
          "data": {
            "text/plain": [
              "torch.float32"
            ]
          },
          "metadata": {},
          "execution_count": 30
        }
      ]
    },
    {
      "cell_type": "markdown",
      "source": [
        "## Three important arguments of tensor\n",
        "1. `dtype -> specifies the datatype of tensor float32 by defalut`\n",
        "\n",
        "2. `device -> specifies the device in which tensors computation is to be done (by defalut ='cpu') can also be cuda `\n",
        "\n",
        "3. `requires_grad -> specifies if wwe need to track gradient of the tensor by deafault False`"
      ],
      "metadata": {
        "id": "MzZxl4DlwNBL"
      }
    },
    {
      "cell_type": "code",
      "source": [
        "new_tensor = torch.tensor([1,2,3,4,5],\n",
        "                          dtype=None ,# float_32 by default\n",
        "                          device=None ,# cpu\n",
        "                          requires_grad=False # no we dont want to track gradinets with operations\n",
        "                          )"
      ],
      "metadata": {
        "id": "Y0H23Z53wAG9"
      },
      "execution_count": null,
      "outputs": []
    },
    {
      "cell_type": "code",
      "source": [
        "new_tensor"
      ],
      "metadata": {
        "colab": {
          "base_uri": "https://localhost:8080/"
        },
        "id": "AvITgkjyy-7P",
        "outputId": "a123ba53-82ab-4ae4-d410-cd5c0901481f"
      },
      "execution_count": null,
      "outputs": [
        {
          "output_type": "execute_result",
          "data": {
            "text/plain": [
              "tensor([1, 2, 3, 4, 5])"
            ]
          },
          "metadata": {},
          "execution_count": 32
        }
      ]
    },
    {
      "cell_type": "code",
      "source": [
        "float_16_tensor = new_tensor.type(torch.float16)"
      ],
      "metadata": {
        "id": "d_thinEjzKPH"
      },
      "execution_count": null,
      "outputs": []
    },
    {
      "cell_type": "code",
      "source": [
        "float_16_tensor"
      ],
      "metadata": {
        "colab": {
          "base_uri": "https://localhost:8080/"
        },
        "id": "MkB5TYzazUcO",
        "outputId": "86ff52f3-0e05-4d7d-fbac-92738d64b8b2"
      },
      "execution_count": null,
      "outputs": [
        {
          "output_type": "execute_result",
          "data": {
            "text/plain": [
              "tensor([1., 2., 3., 4., 5.], dtype=torch.float16)"
            ]
          },
          "metadata": {},
          "execution_count": 34
        }
      ]
    },
    {
      "cell_type": "markdown",
      "source": [
        "# Getting informations form tensors\n",
        "1. Tensor not right datatype -> to get datatype from tensor , can use `tensor.dtype`\n",
        "2. Tensor not right shape -> to get shape from tensor , can use `tensor.shape`\n",
        "3. Tensor not on the right Device -> to get device from tensor , can use `tensor.device`"
      ],
      "metadata": {
        "id": "ezblKFeI003F"
      }
    },
    {
      "cell_type": "code",
      "source": [],
      "metadata": {
        "id": "vZHWW-QHzXSk"
      },
      "execution_count": null,
      "outputs": []
    },
    {
      "cell_type": "markdown",
      "source": [
        "# Manipulating Tensor Tensors (tensor operations)\n",
        "\n",
        "Tensor Operations include:\n",
        "* Addition `+`\n",
        "* Subtraction `-`\n",
        "* Multiplication (element-wise) `*`\n",
        "* Division `\\`\n",
        "* Matrix multiplication (dot product) `@`"
      ],
      "metadata": {
        "id": "KAe4NRml215m"
      }
    },
    {
      "cell_type": "code",
      "source": [
        "# Create a tensor and add 10 to it\n",
        "tensor = torch.tensor([1,2,3])\n",
        "tensor+10"
      ],
      "metadata": {
        "colab": {
          "base_uri": "https://localhost:8080/"
        },
        "id": "BpbuqVx63T-i",
        "outputId": "21be972e-411f-4453-83e8-b302587c9d1c"
      },
      "execution_count": null,
      "outputs": [
        {
          "output_type": "execute_result",
          "data": {
            "text/plain": [
              "tensor([11, 12, 13])"
            ]
          },
          "metadata": {},
          "execution_count": 35
        }
      ]
    },
    {
      "cell_type": "code",
      "source": [
        "# Multiply tensor by 10\n",
        "tensor*10"
      ],
      "metadata": {
        "colab": {
          "base_uri": "https://localhost:8080/"
        },
        "id": "wpyYnb6V3jun",
        "outputId": "e75da9e9-a473-49fe-fa31-b0ef074ffbc7"
      },
      "execution_count": null,
      "outputs": [
        {
          "output_type": "execute_result",
          "data": {
            "text/plain": [
              "tensor([10, 20, 30])"
            ]
          },
          "metadata": {},
          "execution_count": 36
        }
      ]
    },
    {
      "cell_type": "code",
      "source": [
        "# subtract by 10\n",
        "tensor-10"
      ],
      "metadata": {
        "colab": {
          "base_uri": "https://localhost:8080/"
        },
        "id": "OXHB0Oge3xIF",
        "outputId": "9d961906-6b2d-4e2d-a03b-8d3f39893d0b"
      },
      "execution_count": null,
      "outputs": [
        {
          "output_type": "execute_result",
          "data": {
            "text/plain": [
              "tensor([-9, -8, -7])"
            ]
          },
          "metadata": {},
          "execution_count": 37
        }
      ]
    },
    {
      "cell_type": "code",
      "source": [
        "# divide by 10\n",
        "tensor/10"
      ],
      "metadata": {
        "colab": {
          "base_uri": "https://localhost:8080/"
        },
        "id": "5FDiWFgB3yjq",
        "outputId": "b38b6cba-e461-47bb-ef82-7204f6653707"
      },
      "execution_count": null,
      "outputs": [
        {
          "output_type": "execute_result",
          "data": {
            "text/plain": [
              "tensor([0.1000, 0.2000, 0.3000])"
            ]
          },
          "metadata": {},
          "execution_count": 38
        }
      ]
    },
    {
      "cell_type": "code",
      "source": [
        "tensor//10"
      ],
      "metadata": {
        "colab": {
          "base_uri": "https://localhost:8080/"
        },
        "id": "eDFqn8uG4G2P",
        "outputId": "b4e497fe-f3b4-419f-fbf3-1fca159ef390"
      },
      "execution_count": null,
      "outputs": [
        {
          "output_type": "execute_result",
          "data": {
            "text/plain": [
              "tensor([0, 0, 0])"
            ]
          },
          "metadata": {},
          "execution_count": 39
        }
      ]
    },
    {
      "cell_type": "markdown",
      "source": [
        "## Try out PyTorch in-built functions\n",
        "* addition -> `torch.add()` or `+`\n",
        "* subtraction-> `torch.sub()` or `-`\n",
        "* multiplication-> `torch.mul()` or `*`\n",
        "* division -> `torch.div()` or `\\`\n",
        "* matrix_multiplication (dot product)-> `torch.matmul()` or `@` or `mm`\n",
        "\n",
        "**Note:** use _ at end of these function (ex-> torch.add_()) to carry out inplace operations"
      ],
      "metadata": {
        "id": "ZUlg88sm4WhI"
      }
    },
    {
      "cell_type": "markdown",
      "source": [
        "A **Transpose** switches the axes or dimesions of a given tensor\n",
        "\n",
        "use `tensor.T` to get the transpose of `tensor`"
      ],
      "metadata": {
        "id": "8kYRjlquS_mL"
      }
    },
    {
      "cell_type": "markdown",
      "source": [
        "## Tensor agregaation"
      ],
      "metadata": {
        "id": "Gj68XCz94JEu"
      }
    },
    {
      "cell_type": "markdown",
      "source": [
        "### Find the min, max, mean, sum ,etc (tensor aggregation)"
      ],
      "metadata": {
        "id": "ei-HaeDuUiIG"
      }
    },
    {
      "cell_type": "code",
      "source": [
        "# create a tensor\n",
        "x = torch.arange(0,100,10, dtype=torch.float32)\n",
        "x.dtype"
      ],
      "metadata": {
        "colab": {
          "base_uri": "https://localhost:8080/"
        },
        "id": "o7xcOEzRUprE",
        "outputId": "277bc416-8f73-4f04-d1e8-c0a839cfa1f5"
      },
      "execution_count": null,
      "outputs": [
        {
          "output_type": "execute_result",
          "data": {
            "text/plain": [
              "torch.float32"
            ]
          },
          "metadata": {},
          "execution_count": 40
        }
      ]
    },
    {
      "cell_type": "code",
      "source": [
        "#find the min\n",
        "torch.min(x), x.min(), min(x)"
      ],
      "metadata": {
        "colab": {
          "base_uri": "https://localhost:8080/"
        },
        "id": "bJg5h7G3UwtP",
        "outputId": "d730edf1-8d41-4582-bddf-49fcc24c892f"
      },
      "execution_count": null,
      "outputs": [
        {
          "output_type": "execute_result",
          "data": {
            "text/plain": [
              "(tensor(0.), tensor(0.), tensor(0.))"
            ]
          },
          "metadata": {},
          "execution_count": 41
        }
      ]
    },
    {
      "cell_type": "code",
      "source": [
        "# find the max\n",
        "torch.max(x) , x.max(), max(x)"
      ],
      "metadata": {
        "colab": {
          "base_uri": "https://localhost:8080/"
        },
        "id": "DpD3-FjgU4mO",
        "outputId": "b03f8c96-3618-47a1-9302-8fd3f75061dc"
      },
      "execution_count": null,
      "outputs": [
        {
          "output_type": "execute_result",
          "data": {
            "text/plain": [
              "(tensor(90.), tensor(90.), tensor(90.))"
            ]
          },
          "metadata": {},
          "execution_count": 42
        }
      ]
    },
    {
      "cell_type": "markdown",
      "source": [
        "**Note** `torch.mean()` function requires a tensor of float, complex dtype to work  "
      ],
      "metadata": {
        "id": "uDZ3lqx2WYyj"
      }
    },
    {
      "cell_type": "code",
      "source": [
        "# find the mean\n",
        "# x=x.type(torch.float32)\n",
        "torch.mean(x), x.mean()"
      ],
      "metadata": {
        "colab": {
          "base_uri": "https://localhost:8080/"
        },
        "id": "9kJoOaMvVEJJ",
        "outputId": "12802df9-89a0-4746-a3d6-4f0021cc54e6"
      },
      "execution_count": null,
      "outputs": [
        {
          "output_type": "execute_result",
          "data": {
            "text/plain": [
              "(tensor(45.), tensor(45.))"
            ]
          },
          "metadata": {},
          "execution_count": 43
        }
      ]
    },
    {
      "cell_type": "markdown",
      "source": [
        "### find the index/position of min and max in a tensor (positional min, max)"
      ],
      "metadata": {
        "id": "QKyqpWaZXAiu"
      }
    },
    {
      "cell_type": "code",
      "source": [
        "x.argmin() # find the position in tensor that has the minimum value with argmim()-> returns index position of target tensor wwhere the minimum value occurs"
      ],
      "metadata": {
        "colab": {
          "base_uri": "https://localhost:8080/"
        },
        "id": "E7a6t88AVSXd",
        "outputId": "b07a8e2d-93ca-4f5f-e74d-84a6d72c4658"
      },
      "execution_count": null,
      "outputs": [
        {
          "output_type": "execute_result",
          "data": {
            "text/plain": [
              "tensor(0)"
            ]
          },
          "metadata": {},
          "execution_count": 44
        }
      ]
    },
    {
      "cell_type": "code",
      "source": [
        "x.argmax() # find the position in tensor that has the maxvalue value with argmim()-> returns index position of target tensor wwhere the minimum value occurs"
      ],
      "metadata": {
        "colab": {
          "base_uri": "https://localhost:8080/"
        },
        "id": "bx7AYweSXgWq",
        "outputId": "3f3cc89b-6f4d-44f6-ce5e-14494ac20f9e"
      },
      "execution_count": null,
      "outputs": [
        {
          "output_type": "execute_result",
          "data": {
            "text/plain": [
              "tensor(9)"
            ]
          },
          "metadata": {},
          "execution_count": 45
        }
      ]
    },
    {
      "cell_type": "markdown",
      "source": [
        "# Reshaping, viewing and stacking Tensors\n",
        "## Reshaping , stacking, squeezing and unsqueezing tenors\n",
        "\n",
        "* `Reshaping` - reshape an input tensor to a defined shape\n",
        "*  `View` - Returns a view of an input tensor of certain shape but keep the same memory as the original tensor\n",
        "* `Stacking` - combine multiple tensors on top of each other (vstack) vertical stack or side by side (hstack) horizontal stack\n",
        "* `sqeeze` - removes all `1` dimensions from a tensor\n",
        "* `Unsqueze` - add a `1` dimension to a target tensor\n",
        "* `Permute` - Return a view if the input with dimensions permuted (swapped) in a certain way\n"
      ],
      "metadata": {
        "id": "JfOaMqD6Ydk5"
      }
    },
    {
      "cell_type": "code",
      "source": [
        "x = torch.arange(1.,10.)\n",
        "x, x.shape"
      ],
      "metadata": {
        "colab": {
          "base_uri": "https://localhost:8080/"
        },
        "id": "EM4UO-m0XiRL",
        "outputId": "67752bc4-beb2-4480-e99a-d12eba8a0e69"
      },
      "execution_count": null,
      "outputs": [
        {
          "output_type": "execute_result",
          "data": {
            "text/plain": [
              "(tensor([1., 2., 3., 4., 5., 6., 7., 8., 9.]), torch.Size([9]))"
            ]
          },
          "metadata": {},
          "execution_count": 46
        }
      ]
    },
    {
      "cell_type": "code",
      "source": [
        "# reshaping\n",
        "# add an extra dimension\n",
        "\n",
        "x_reshaped = x.reshape(9,1)\n",
        "x_reshaped, x_reshaped.shape"
      ],
      "metadata": {
        "colab": {
          "base_uri": "https://localhost:8080/"
        },
        "id": "lt5MjmdKbO6-",
        "outputId": "888fcf6c-aadf-4200-e624-61416933984c"
      },
      "execution_count": null,
      "outputs": [
        {
          "output_type": "execute_result",
          "data": {
            "text/plain": [
              "(tensor([[1.],\n",
              "         [2.],\n",
              "         [3.],\n",
              "         [4.],\n",
              "         [5.],\n",
              "         [6.],\n",
              "         [7.],\n",
              "         [8.],\n",
              "         [9.]]),\n",
              " torch.Size([9, 1]))"
            ]
          },
          "metadata": {},
          "execution_count": 47
        }
      ]
    },
    {
      "cell_type": "code",
      "source": [
        "x_reshaped = x.reshape(3,3)\n",
        "x_reshaped, x_reshaped.shape"
      ],
      "metadata": {
        "colab": {
          "base_uri": "https://localhost:8080/"
        },
        "id": "_DPZ9kTXhmRS",
        "outputId": "c6c23ff2-b30e-4628-d5d1-0fa305f73d0d"
      },
      "execution_count": null,
      "outputs": [
        {
          "output_type": "execute_result",
          "data": {
            "text/plain": [
              "(tensor([[1., 2., 3.],\n",
              "         [4., 5., 6.],\n",
              "         [7., 8., 9.]]),\n",
              " torch.Size([3, 3]))"
            ]
          },
          "metadata": {},
          "execution_count": 48
        }
      ]
    },
    {
      "cell_type": "code",
      "source": [
        "# creating the view\n",
        "z= x.view(9,1)\n",
        "z, z.shape"
      ],
      "metadata": {
        "colab": {
          "base_uri": "https://localhost:8080/"
        },
        "id": "RdeoEBKLhvls",
        "outputId": "a759578b-3ca4-48a3-e466-0561d7a88473"
      },
      "execution_count": null,
      "outputs": [
        {
          "output_type": "execute_result",
          "data": {
            "text/plain": [
              "(tensor([[1.],\n",
              "         [2.],\n",
              "         [3.],\n",
              "         [4.],\n",
              "         [5.],\n",
              "         [6.],\n",
              "         [7.],\n",
              "         [8.],\n",
              "         [9.]]),\n",
              " torch.Size([9, 1]))"
            ]
          },
          "metadata": {},
          "execution_count": 49
        }
      ]
    },
    {
      "cell_type": "code",
      "source": [
        "# changing the view\n",
        "z[2,0]=5\n",
        "z,x"
      ],
      "metadata": {
        "colab": {
          "base_uri": "https://localhost:8080/"
        },
        "id": "AolSr6ULMwuE",
        "outputId": "a79d2de8-2c34-42de-ef88-689e94bc253c"
      },
      "execution_count": null,
      "outputs": [
        {
          "output_type": "execute_result",
          "data": {
            "text/plain": [
              "(tensor([[1.],\n",
              "         [2.],\n",
              "         [5.],\n",
              "         [4.],\n",
              "         [5.],\n",
              "         [6.],\n",
              "         [7.],\n",
              "         [8.],\n",
              "         [9.]]),\n",
              " tensor([1., 2., 5., 4., 5., 6., 7., 8., 9.]))"
            ]
          },
          "metadata": {},
          "execution_count": 50
        }
      ]
    },
    {
      "cell_type": "markdown",
      "source": [
        "**note** changing the view z changes the x (because a view of a tensor shares the same memory as the original tensor)"
      ],
      "metadata": {
        "id": "mU-pFhYCNOLe"
      }
    },
    {
      "cell_type": "code",
      "source": [
        "# stack tensors on top of each other\n",
        "x_stacked = torch.stack([x,x,x,x], dim=0)\n",
        "x_stacked, x.shape"
      ],
      "metadata": {
        "colab": {
          "base_uri": "https://localhost:8080/"
        },
        "id": "lb8yUd7YM3xY",
        "outputId": "0571cf95-0fa5-4791-a25c-ec9383b575aa"
      },
      "execution_count": null,
      "outputs": [
        {
          "output_type": "execute_result",
          "data": {
            "text/plain": [
              "(tensor([[1., 2., 5., 4., 5., 6., 7., 8., 9.],\n",
              "         [1., 2., 5., 4., 5., 6., 7., 8., 9.],\n",
              "         [1., 2., 5., 4., 5., 6., 7., 8., 9.],\n",
              "         [1., 2., 5., 4., 5., 6., 7., 8., 9.]]),\n",
              " torch.Size([9]))"
            ]
          },
          "metadata": {},
          "execution_count": 51
        }
      ]
    },
    {
      "cell_type": "code",
      "source": [
        "# stack tensors on top of each other\n",
        "x_stacked = torch.stack([x,x,x,x], dim=1)\n",
        "x_stacked, x.shape"
      ],
      "metadata": {
        "colab": {
          "base_uri": "https://localhost:8080/"
        },
        "id": "8w0VmiMFN72z",
        "outputId": "9f6f66b9-052b-499c-a1a9-e9c6249ab7df"
      },
      "execution_count": null,
      "outputs": [
        {
          "output_type": "execute_result",
          "data": {
            "text/plain": [
              "(tensor([[1., 1., 1., 1.],\n",
              "         [2., 2., 2., 2.],\n",
              "         [5., 5., 5., 5.],\n",
              "         [4., 4., 4., 4.],\n",
              "         [5., 5., 5., 5.],\n",
              "         [6., 6., 6., 6.],\n",
              "         [7., 7., 7., 7.],\n",
              "         [8., 8., 8., 8.],\n",
              "         [9., 9., 9., 9.]]),\n",
              " torch.Size([9]))"
            ]
          },
          "metadata": {},
          "execution_count": 52
        }
      ]
    },
    {
      "cell_type": "code",
      "source": [
        "x_stacked = torch.stack([x_reshaped, x_reshaped], dim =2)\n",
        "x_reshaped , x_reshaped.shape , x_stacked , x_stacked.shape"
      ],
      "metadata": {
        "id": "gkmuiCwrOHl8",
        "colab": {
          "base_uri": "https://localhost:8080/"
        },
        "outputId": "89770d94-c7d6-4b55-d7e9-b25dd98d3beb"
      },
      "execution_count": null,
      "outputs": [
        {
          "output_type": "execute_result",
          "data": {
            "text/plain": [
              "(tensor([[1., 2., 5.],\n",
              "         [4., 5., 6.],\n",
              "         [7., 8., 9.]]),\n",
              " torch.Size([3, 3]),\n",
              " tensor([[[1., 1.],\n",
              "          [2., 2.],\n",
              "          [5., 5.]],\n",
              " \n",
              "         [[4., 4.],\n",
              "          [5., 5.],\n",
              "          [6., 6.]],\n",
              " \n",
              "         [[7., 7.],\n",
              "          [8., 8.],\n",
              "          [9., 9.]]]),\n",
              " torch.Size([3, 3, 2]))"
            ]
          },
          "metadata": {},
          "execution_count": 53
        }
      ]
    },
    {
      "cell_type": "code",
      "source": [
        "x_stacked = torch.stack([x_reshaped, x_reshaped], dim =1)\n",
        "x_reshaped , x_reshaped.shape , x_stacked , x_stacked.shape"
      ],
      "metadata": {
        "colab": {
          "base_uri": "https://localhost:8080/"
        },
        "id": "fs5vU9sboKZj",
        "outputId": "7b9ed4b7-076c-4aeb-9256-a61417f2b1f8"
      },
      "execution_count": null,
      "outputs": [
        {
          "output_type": "execute_result",
          "data": {
            "text/plain": [
              "(tensor([[1., 2., 5.],\n",
              "         [4., 5., 6.],\n",
              "         [7., 8., 9.]]),\n",
              " torch.Size([3, 3]),\n",
              " tensor([[[1., 2., 5.],\n",
              "          [1., 2., 5.]],\n",
              " \n",
              "         [[4., 5., 6.],\n",
              "          [4., 5., 6.]],\n",
              " \n",
              "         [[7., 8., 9.],\n",
              "          [7., 8., 9.]]]),\n",
              " torch.Size([3, 2, 3]))"
            ]
          },
          "metadata": {},
          "execution_count": 54
        }
      ]
    },
    {
      "cell_type": "code",
      "source": [
        "x_stacked = torch.stack([x_reshaped, x_reshaped], dim =0)\n",
        "x_reshaped , x_reshaped.shape , x_stacked , x_stacked.shape"
      ],
      "metadata": {
        "colab": {
          "base_uri": "https://localhost:8080/"
        },
        "id": "A73pwyM6osh1",
        "outputId": "f601b476-6684-4289-e6fb-892294ab8edd"
      },
      "execution_count": null,
      "outputs": [
        {
          "output_type": "execute_result",
          "data": {
            "text/plain": [
              "(tensor([[1., 2., 5.],\n",
              "         [4., 5., 6.],\n",
              "         [7., 8., 9.]]),\n",
              " torch.Size([3, 3]),\n",
              " tensor([[[1., 2., 5.],\n",
              "          [4., 5., 6.],\n",
              "          [7., 8., 9.]],\n",
              " \n",
              "         [[1., 2., 5.],\n",
              "          [4., 5., 6.],\n",
              "          [7., 8., 9.]]]),\n",
              " torch.Size([2, 3, 3]))"
            ]
          },
          "metadata": {},
          "execution_count": 55
        }
      ]
    },
    {
      "cell_type": "markdown",
      "source": [
        "## Squeezing, Unsqueezing and Permuting Tensors"
      ],
      "metadata": {
        "id": "pbYyB6AApceb"
      }
    },
    {
      "cell_type": "code",
      "source": [
        "# torch.sqeeze - remove all single dimensions from a target tensor\n",
        "new_tensor = x.reshape(1,-1)\n",
        "new_tensor, new_tensor.shape, new_tensor.squeeze(), new_tensor.squeeze().shape"
      ],
      "metadata": {
        "colab": {
          "base_uri": "https://localhost:8080/"
        },
        "id": "WYQyuOsGouZX",
        "outputId": "270946d4-c897-421a-fd40-2652c446e35c"
      },
      "execution_count": null,
      "outputs": [
        {
          "output_type": "execute_result",
          "data": {
            "text/plain": [
              "(tensor([[1., 2., 5., 4., 5., 6., 7., 8., 9.]]),\n",
              " torch.Size([1, 9]),\n",
              " tensor([1., 2., 5., 4., 5., 6., 7., 8., 9.]),\n",
              " torch.Size([9]))"
            ]
          },
          "metadata": {},
          "execution_count": 56
        }
      ]
    },
    {
      "cell_type": "code",
      "source": [
        "# torch.sqeeze - remove all single dimensions from a target tensor\n",
        "new_tensor = x.reshape(-1,1)\n",
        "new_tensor, new_tensor.shape, new_tensor.squeeze(), new_tensor.squeeze().shape"
      ],
      "metadata": {
        "colab": {
          "base_uri": "https://localhost:8080/"
        },
        "id": "C0NgfvUBqKT0",
        "outputId": "7157d53d-34c4-406e-92c4-8e13725e6411"
      },
      "execution_count": null,
      "outputs": [
        {
          "output_type": "execute_result",
          "data": {
            "text/plain": [
              "(tensor([[1.],\n",
              "         [2.],\n",
              "         [5.],\n",
              "         [4.],\n",
              "         [5.],\n",
              "         [6.],\n",
              "         [7.],\n",
              "         [8.],\n",
              "         [9.]]),\n",
              " torch.Size([9, 1]),\n",
              " tensor([1., 2., 5., 4., 5., 6., 7., 8., 9.]),\n",
              " torch.Size([9]))"
            ]
          },
          "metadata": {},
          "execution_count": 57
        }
      ]
    },
    {
      "cell_type": "code",
      "source": [
        "# torch.sqeeze - remove all single dimensions from a target tensor\n",
        "new_tensor = x.reshape(3,-1)\n",
        "new_tensor, new_tensor.shape, new_tensor.squeeze(), new_tensor.squeeze().shape"
      ],
      "metadata": {
        "colab": {
          "base_uri": "https://localhost:8080/"
        },
        "id": "8UamgJZ_qZR8",
        "outputId": "cf54f83e-16db-4863-f604-78f08a4c7b04"
      },
      "execution_count": null,
      "outputs": [
        {
          "output_type": "execute_result",
          "data": {
            "text/plain": [
              "(tensor([[1., 2., 5.],\n",
              "         [4., 5., 6.],\n",
              "         [7., 8., 9.]]),\n",
              " torch.Size([3, 3]),\n",
              " tensor([[1., 2., 5.],\n",
              "         [4., 5., 6.],\n",
              "         [7., 8., 9.]]),\n",
              " torch.Size([3, 3]))"
            ]
          },
          "metadata": {},
          "execution_count": 58
        }
      ]
    },
    {
      "cell_type": "code",
      "source": [
        "# torch.unsqueeze() - adds a single dimenstion to a target tensor at a specifc dim (dimension)\n",
        "print(x.shape)\n",
        "new_tensor = x.reshape(-1,1)\n",
        "print(new_tensor)\n",
        "print(new_tensor.shape)\n",
        "print()\n",
        "squeezed_tensor  = new_tensor.squeeze()\n",
        "print(squeezed_tensor)\n",
        "print(squeezed_tensor.shape)\n",
        "print()\n",
        "unsqueezed_tensor = squeezed_tensor.unsqueeze(dim=1)\n",
        "print(unsqueezed_tensor)\n",
        "print(unsqueezed_tensor.shape)\n"
      ],
      "metadata": {
        "colab": {
          "base_uri": "https://localhost:8080/"
        },
        "id": "XaC9PnJ1q5R5",
        "outputId": "3eb0d857-147d-4117-b025-1349c73d8ed9"
      },
      "execution_count": null,
      "outputs": [
        {
          "output_type": "stream",
          "name": "stdout",
          "text": [
            "torch.Size([9])\n",
            "tensor([[1.],\n",
            "        [2.],\n",
            "        [5.],\n",
            "        [4.],\n",
            "        [5.],\n",
            "        [6.],\n",
            "        [7.],\n",
            "        [8.],\n",
            "        [9.]])\n",
            "torch.Size([9, 1])\n",
            "\n",
            "tensor([1., 2., 5., 4., 5., 6., 7., 8., 9.])\n",
            "torch.Size([9])\n",
            "\n",
            "tensor([[1.],\n",
            "        [2.],\n",
            "        [5.],\n",
            "        [4.],\n",
            "        [5.],\n",
            "        [6.],\n",
            "        [7.],\n",
            "        [8.],\n",
            "        [9.]])\n",
            "torch.Size([9, 1])\n"
          ]
        }
      ]
    },
    {
      "cell_type": "code",
      "source": [
        "# torch.unsqueeze() - adds a single dimenstion to a target tensor at a specifc dim (dimension)\n",
        "print(x.shape)\n",
        "print(x)\n",
        "print()\n",
        "print()\n",
        "new_tensor = x.reshape(-1,1)\n",
        "print(new_tensor)\n",
        "print(new_tensor.shape)\n",
        "print()\n",
        "print()\n",
        "squeezed_tensor  = new_tensor.squeeze()\n",
        "print(squeezed_tensor)\n",
        "print(squeezed_tensor.shape)\n",
        "print()\n",
        "print()\n",
        "unsqueezed_tensor = squeezed_tensor.unsqueeze(dim=0)\n",
        "print(unsqueezed_tensor)\n",
        "print(unsqueezed_tensor.shape)"
      ],
      "metadata": {
        "colab": {
          "base_uri": "https://localhost:8080/"
        },
        "id": "E8lR9jRIscjz",
        "outputId": "7c0f0a9f-1b22-4cb4-efa7-fb8fa20eeb2c"
      },
      "execution_count": null,
      "outputs": [
        {
          "output_type": "stream",
          "name": "stdout",
          "text": [
            "torch.Size([9])\n",
            "tensor([1., 2., 5., 4., 5., 6., 7., 8., 9.])\n",
            "\n",
            "\n",
            "tensor([[1.],\n",
            "        [2.],\n",
            "        [5.],\n",
            "        [4.],\n",
            "        [5.],\n",
            "        [6.],\n",
            "        [7.],\n",
            "        [8.],\n",
            "        [9.]])\n",
            "torch.Size([9, 1])\n",
            "\n",
            "\n",
            "tensor([1., 2., 5., 4., 5., 6., 7., 8., 9.])\n",
            "torch.Size([9])\n",
            "\n",
            "\n",
            "tensor([[1., 2., 5., 4., 5., 6., 7., 8., 9.]])\n",
            "torch.Size([1, 9])\n"
          ]
        }
      ]
    },
    {
      "cell_type": "code",
      "source": [
        "# torch.permute - rearranges the dimensions of a target tensor in a specified order\n",
        "# permute - rearrange\n",
        "# very much useful  in cases of images\n",
        "# some images has dimenstions as height*width*color_channels while some has color_channels*height*width\n",
        "x_original = torch.rand(size=(2,2,3)) # height = 2px, widdth = 2px, color_channels = 3\n",
        "x_original, x_original.shape\n",
        "\n",
        "# [[[00c1, 00c2,00c2],\n",
        "# ]]\n",
        "\n"
      ],
      "metadata": {
        "colab": {
          "base_uri": "https://localhost:8080/"
        },
        "id": "-K72rf6EsgqK",
        "outputId": "8a5eba8d-7b5f-4aa4-dfda-3690312dc834"
      },
      "execution_count": null,
      "outputs": [
        {
          "output_type": "execute_result",
          "data": {
            "text/plain": [
              "(tensor([[[0.4583, 0.3291, 0.2947],\n",
              "          [0.6001, 0.8156, 0.1094]],\n",
              " \n",
              "         [[0.6538, 0.1648, 0.8843],\n",
              "          [0.2765, 0.0828, 0.0797]]]),\n",
              " torch.Size([2, 2, 3]))"
            ]
          },
          "metadata": {},
          "execution_count": 61
        }
      ]
    },
    {
      "cell_type": "code",
      "source": [
        "# if we want color channels to be the first dimenstion then we will use permute\n",
        "x_permuted = x_original.permute(2,0,1)\n",
        "x_permuted, x_permuted.shape"
      ],
      "metadata": {
        "colab": {
          "base_uri": "https://localhost:8080/"
        },
        "id": "4Sy9KMxktm3h",
        "outputId": "36645f2f-efb8-4334-be8f-82980ad57ca2"
      },
      "execution_count": null,
      "outputs": [
        {
          "output_type": "execute_result",
          "data": {
            "text/plain": [
              "(tensor([[[0.4583, 0.6001],\n",
              "          [0.6538, 0.2765]],\n",
              " \n",
              "         [[0.3291, 0.8156],\n",
              "          [0.1648, 0.0828]],\n",
              " \n",
              "         [[0.2947, 0.1094],\n",
              "          [0.8843, 0.0797]]]),\n",
              " torch.Size([3, 2, 2]))"
            ]
          },
          "metadata": {},
          "execution_count": 62
        }
      ]
    },
    {
      "cell_type": "markdown",
      "source": [
        "**Note** Permute is a view that is shares the same memory as the original tensor"
      ],
      "metadata": {
        "id": "wysnLvQ2Dm9o"
      }
    },
    {
      "cell_type": "markdown",
      "source": [
        "# Idexing (selection data from tensors)\n",
        "indexing with PyTorch is similar to indexing with NumPy"
      ],
      "metadata": {
        "id": "PfRI6movu0JZ"
      }
    },
    {
      "cell_type": "code",
      "source": [
        "x = torch.arange(1,10).reshape(1,3,3)\n",
        "x,x.shape"
      ],
      "metadata": {
        "colab": {
          "base_uri": "https://localhost:8080/"
        },
        "id": "GP_PgCx0EIYr",
        "outputId": "79a82c13-6e98-4b25-bc43-318ca52cf65f"
      },
      "execution_count": null,
      "outputs": [
        {
          "output_type": "execute_result",
          "data": {
            "text/plain": [
              "(tensor([[[1, 2, 3],\n",
              "          [4, 5, 6],\n",
              "          [7, 8, 9]]]),\n",
              " torch.Size([1, 3, 3]))"
            ]
          },
          "metadata": {},
          "execution_count": 63
        }
      ]
    },
    {
      "cell_type": "code",
      "source": [
        "# let's index on our new  tensor\n",
        "x[0],x[0,0], x[0][0]"
      ],
      "metadata": {
        "colab": {
          "base_uri": "https://localhost:8080/"
        },
        "id": "FN7Zk7d2ETSB",
        "outputId": "0107c9ac-fc2d-4c0f-9715-b4caf836b985"
      },
      "execution_count": null,
      "outputs": [
        {
          "output_type": "execute_result",
          "data": {
            "text/plain": [
              "(tensor([[1, 2, 3],\n",
              "         [4, 5, 6],\n",
              "         [7, 8, 9]]),\n",
              " tensor([1, 2, 3]),\n",
              " tensor([1, 2, 3]))"
            ]
          },
          "metadata": {},
          "execution_count": 64
        }
      ]
    },
    {
      "cell_type": "code",
      "source": [
        "x[0,0,0], x[0][0][0]"
      ],
      "metadata": {
        "colab": {
          "base_uri": "https://localhost:8080/"
        },
        "id": "gmcJrXsHEkzl",
        "outputId": "28d26cbd-e0b4-4f8c-97c0-21637508df95"
      },
      "execution_count": null,
      "outputs": [
        {
          "output_type": "execute_result",
          "data": {
            "text/plain": [
              "(tensor(1), tensor(1))"
            ]
          },
          "metadata": {},
          "execution_count": 65
        }
      ]
    },
    {
      "cell_type": "code",
      "source": [
        "# get number 8\n",
        "x[0,2,1] , x[0][2][1]"
      ],
      "metadata": {
        "colab": {
          "base_uri": "https://localhost:8080/"
        },
        "id": "CiuZURtZEoq7",
        "outputId": "f911b3a9-7465-4a8a-8659-9245d90936ed"
      },
      "execution_count": null,
      "outputs": [
        {
          "output_type": "execute_result",
          "data": {
            "text/plain": [
              "(tensor(8), tensor(8))"
            ]
          },
          "metadata": {},
          "execution_count": 66
        }
      ]
    },
    {
      "cell_type": "code",
      "source": [
        "x[:,:,1]"
      ],
      "metadata": {
        "colab": {
          "base_uri": "https://localhost:8080/"
        },
        "id": "lz5pielNE8x_",
        "outputId": "37e9fb16-24dd-476d-9721-7161ee51319d"
      },
      "execution_count": null,
      "outputs": [
        {
          "output_type": "execute_result",
          "data": {
            "text/plain": [
              "tensor([[2, 5, 8]])"
            ]
          },
          "metadata": {},
          "execution_count": 67
        }
      ]
    },
    {
      "cell_type": "markdown",
      "source": [
        "# Numpy Interaction\n",
        "* data in numpy to pytorch tensor ->  `torch.from_numpy(ndarray)`\n",
        "* PyTorch tensor -> Numpy -> `torch.Tensor.numpy()`"
      ],
      "metadata": {
        "id": "_3HpBIdxGFoM"
      }
    },
    {
      "cell_type": "code",
      "source": [
        "import numpy as np\n",
        "\n",
        "array =   np.arange(1.0, 8.0)\n",
        "tensor = torch.from_numpy(array).type(torch.float32) # warning : when converting  from numpy -> pytorch, pytorch reflects numpy's defalut datatype of float64 unless specified otherwise\n",
        "# tensor.type(torch.float32)\n",
        "tensor\n"
      ],
      "metadata": {
        "colab": {
          "base_uri": "https://localhost:8080/"
        },
        "id": "neowFwwgFEZL",
        "outputId": "9fd604a9-8d29-4f6a-aaa7-b0987028889c"
      },
      "execution_count": null,
      "outputs": [
        {
          "output_type": "execute_result",
          "data": {
            "text/plain": [
              "tensor([1., 2., 3., 4., 5., 6., 7.])"
            ]
          },
          "metadata": {},
          "execution_count": 68
        }
      ]
    },
    {
      "cell_type": "markdown",
      "source": [
        " change the value of array, what will this do to `tesnor`?"
      ],
      "metadata": {
        "id": "jFCDlcUZG6Fk"
      }
    },
    {
      "cell_type": "code",
      "source": [
        "tensor = torch.ones(7)\n",
        "array = tensor.numpy()\n",
        "array, tensor"
      ],
      "metadata": {
        "colab": {
          "base_uri": "https://localhost:8080/"
        },
        "id": "jz9aZvxzH_Cv",
        "outputId": "9c290282-0979-4d30-bf08-213ffd37c334"
      },
      "execution_count": null,
      "outputs": [
        {
          "output_type": "execute_result",
          "data": {
            "text/plain": [
              "(array([1., 1., 1., 1., 1., 1., 1.], dtype=float32),\n",
              " tensor([1., 1., 1., 1., 1., 1., 1.]))"
            ]
          },
          "metadata": {},
          "execution_count": 69
        }
      ]
    },
    {
      "cell_type": "markdown",
      "source": [
        "# PyTorch Reproducibility\n",
        "## Trying to take random out of random\n",
        "\n",
        "`start with random numbers -> tensor operations -> update random numbers to try and make them better representation of data -> again -> again-> again ... `\n",
        "\n",
        "* To redduce the randomness in neural networks and Pytorch comes the concept of a **random seed**.\n",
        "\n",
        "* This is done to get reproducibility of ouputs while getting the benifite of randomness.\n",
        "* Essentitally what the random seed does is \"flavour\" the randomness."
      ],
      "metadata": {
        "id": "rb-z1_abIhk9"
      }
    },
    {
      "cell_type": "code",
      "source": [
        "# creating two random tensors\n",
        "random_tensor_A = torch.rand(3,4)\n",
        "random_tensor_B = torch.rand(3,4)\n",
        "print(random_tensor_A)\n",
        "print(random_tensor_B)\n",
        "print(random_tensor_A==random_tensor_B)"
      ],
      "metadata": {
        "colab": {
          "base_uri": "https://localhost:8080/"
        },
        "id": "8gsV3RnlILMj",
        "outputId": "0768974e-0814-4d9b-bde6-d8966101d9dc"
      },
      "execution_count": null,
      "outputs": [
        {
          "output_type": "stream",
          "name": "stdout",
          "text": [
            "tensor([[0.5348, 0.4813, 0.2607, 0.9467],\n",
            "        [0.2794, 0.4823, 0.8638, 0.2415],\n",
            "        [0.0275, 0.9094, 0.7731, 0.9986]])\n",
            "tensor([[0.6115, 0.6092, 0.7360, 0.7023],\n",
            "        [0.0170, 0.9983, 0.6212, 0.0476],\n",
            "        [0.7222, 0.0926, 0.3000, 0.5270]])\n",
            "tensor([[False, False, False, False],\n",
            "        [False, False, False, False],\n",
            "        [False, False, False, False]])\n"
          ]
        }
      ]
    },
    {
      "cell_type": "code",
      "source": [
        "# Create to random but reproduceble tensors\n",
        "\n",
        "# Set the random seed\n",
        "RANDOM_SEED = 42\n",
        "\n",
        "# Manually set the random seed note this works one for generating next tensor\n",
        "torch.manual_seed(RANDOM_SEED)\n",
        "random_tensor_c = torch.rand((3,4))\n",
        "\n",
        "\n",
        "# Manually set the random seed note this works one for generating next tensor\n",
        "torch.manual_seed(RANDOM_SEED)\n",
        "random_tensor_d = torch.rand(3,4)\n",
        "\n",
        "print(random_tensor_c)\n",
        "print(random_tensor_d)\n",
        "print(random_tensor_c==random_tensor_d)"
      ],
      "metadata": {
        "colab": {
          "base_uri": "https://localhost:8080/"
        },
        "id": "ZbqbOCw8KiHC",
        "outputId": "1fc271d3-696b-4b18-f07a-353e6d9b51cb"
      },
      "execution_count": null,
      "outputs": [
        {
          "output_type": "stream",
          "name": "stdout",
          "text": [
            "tensor([[0.8823, 0.9150, 0.3829, 0.9593],\n",
            "        [0.3904, 0.6009, 0.2566, 0.7936],\n",
            "        [0.9408, 0.1332, 0.9346, 0.5936]])\n",
            "tensor([[0.8823, 0.9150, 0.3829, 0.9593],\n",
            "        [0.3904, 0.6009, 0.2566, 0.7936],\n",
            "        [0.9408, 0.1332, 0.9346, 0.5936]])\n",
            "tensor([[True, True, True, True],\n",
            "        [True, True, True, True],\n",
            "        [True, True, True, True]])\n"
          ]
        }
      ]
    },
    {
      "cell_type": "markdown",
      "source": [
        "# Running tensors and PyRorch objects on the GPU (and making fastar computations)\n",
        "Gpus = faster computations on numbers, with the help of CUDA, NVIDIA, PyTorch woking behind the scene"
      ],
      "metadata": {
        "id": "QLU_K0B-MR47"
      }
    },
    {
      "cell_type": "code",
      "source": [
        "### 1. Getting the GPU\n",
        "! nvidia-smi"
      ],
      "metadata": {
        "colab": {
          "base_uri": "https://localhost:8080/"
        },
        "id": "BOUWgjvUNoNF",
        "outputId": "1c8173c0-6fdb-4845-e695-e4a3d1f5bbd8"
      },
      "execution_count": null,
      "outputs": [
        {
          "output_type": "stream",
          "name": "stdout",
          "text": [
            "Mon Feb 17 14:10:50 2025       \n",
            "+-----------------------------------------------------------------------------------------+\n",
            "| NVIDIA-SMI 550.54.15              Driver Version: 550.54.15      CUDA Version: 12.4     |\n",
            "|-----------------------------------------+------------------------+----------------------+\n",
            "| GPU  Name                 Persistence-M | Bus-Id          Disp.A | Volatile Uncorr. ECC |\n",
            "| Fan  Temp   Perf          Pwr:Usage/Cap |           Memory-Usage | GPU-Util  Compute M. |\n",
            "|                                         |                        |               MIG M. |\n",
            "|=========================================+========================+======================|\n",
            "|   0  Tesla T4                       Off |   00000000:00:04.0 Off |                    0 |\n",
            "| N/A   34C    P8              9W /   70W |       0MiB /  15360MiB |      0%      Default |\n",
            "|                                         |                        |                  N/A |\n",
            "+-----------------------------------------+------------------------+----------------------+\n",
            "                                                                                         \n",
            "+-----------------------------------------------------------------------------------------+\n",
            "| Processes:                                                                              |\n",
            "|  GPU   GI   CI        PID   Type   Process name                              GPU Memory |\n",
            "|        ID   ID                                                               Usage      |\n",
            "|=========================================================================================|\n",
            "|  No running processes found                                                             |\n",
            "+-----------------------------------------------------------------------------------------+\n"
          ]
        }
      ]
    },
    {
      "cell_type": "code",
      "source": [
        "# check for gpu acess with pytorch\n",
        "torch.cuda.is_available()"
      ],
      "metadata": {
        "colab": {
          "base_uri": "https://localhost:8080/"
        },
        "id": "hO-SsYf4P0-X",
        "outputId": "e3a74449-5bc2-40f4-9942-89e4399db928"
      },
      "execution_count": null,
      "outputs": [
        {
          "output_type": "execute_result",
          "data": {
            "text/plain": [
              "True"
            ]
          },
          "metadata": {},
          "execution_count": 76
        }
      ]
    },
    {
      "cell_type": "markdown",
      "source": [
        "**run on GPU if available else use CPU**"
      ],
      "metadata": {
        "id": "TpTw-4pZR-Zg"
      }
    },
    {
      "cell_type": "code",
      "source": [
        "# 1 Setup device agnostic code\n",
        "device = \"cuda\" if torch.cuda.is_available() else \"cpu\""
      ],
      "metadata": {
        "id": "ubuyXzy4ROJP"
      },
      "execution_count": null,
      "outputs": []
    },
    {
      "cell_type": "code",
      "source": [
        "#2 count the number of devices\n",
        "torch.cuda.device_count()"
      ],
      "metadata": {
        "colab": {
          "base_uri": "https://localhost:8080/"
        },
        "id": "-4mU3JgkRn37",
        "outputId": "230bb9e2-d678-418c-b789-4c933192028a"
      },
      "execution_count": null,
      "outputs": [
        {
          "output_type": "execute_result",
          "data": {
            "text/plain": [
              "1"
            ]
          },
          "metadata": {},
          "execution_count": 78
        }
      ]
    },
    {
      "cell_type": "markdown",
      "source": [
        "### setting up device agnostic code and putting tensors ON and OFF the GPU"
      ],
      "metadata": {
        "id": "07_UznN-SKJQ"
      }
    },
    {
      "cell_type": "code",
      "source": [
        "## 3. Putting tensors (and models) on the GPU\n",
        "\n",
        "# create a tensor (default on the CPU)\n",
        "\n",
        "tensor = torch.tensor([1,2,3])\n",
        "print(tensor, tensor.device)\n",
        "\n",
        "\n",
        "# create a tensor (manully on CPU)\n",
        "tensor2 = torch.tensor([4,5,6], device='cpu')\n",
        "print(tensor2, tensor2.device)\n",
        "\n",
        "\n",
        "# create a tensor (on GPU)\n",
        "tensor3 = torch.tensor([6, 7,8], device= 'cuda')\n",
        "print(tensor3, tensor3.device)"
      ],
      "metadata": {
        "colab": {
          "base_uri": "https://localhost:8080/"
        },
        "id": "QZJcLVzwRvTw",
        "outputId": "2d0e42cd-6870-4696-f15e-cf92c5976db8"
      },
      "execution_count": null,
      "outputs": [
        {
          "output_type": "stream",
          "name": "stdout",
          "text": [
            "tensor([1, 2, 3]) cpu\n",
            "tensor([4, 5, 6]) cpu\n",
            "tensor([6, 7, 8], device='cuda:0') cuda:0\n"
          ]
        }
      ]
    },
    {
      "cell_type": "code",
      "source": [
        "# using device agnostic\n",
        "tensor4 =torch.tensor([9,1,2], device=device) # the device varialble wich we set up earlier\n",
        "# this will set up tesnor  into cuda if cuda(GPU) is available\n",
        "\n",
        "print(tensor4, tensor4.device)"
      ],
      "metadata": {
        "colab": {
          "base_uri": "https://localhost:8080/"
        },
        "id": "vPMAzfyOS3qq",
        "outputId": "77c77c8a-9eb1-448c-fb5f-12db13d3b750"
      },
      "execution_count": null,
      "outputs": [
        {
          "output_type": "stream",
          "name": "stdout",
          "text": [
            "tensor([9, 1, 2], device='cuda:0') cuda:0\n"
          ]
        }
      ]
    },
    {
      "cell_type": "code",
      "source": [
        "#move the tensor from cpu to gpu\n",
        "tensor5  = torch.tensor([2,3,4,5])\n",
        "print(tensor5, tensor5.device)\n",
        "\n",
        "#tensor.to(device) method is used to move tensor to target device\n",
        "\n",
        "tensor5_cuda = tensor5.to(device) # device which is cuda if  gpu is available else this is  cpu\n",
        "print(tensor5_cuda.device)\n",
        "# print(device)"
      ],
      "metadata": {
        "colab": {
          "base_uri": "https://localhost:8080/"
        },
        "id": "0CUngFLyUAnf",
        "outputId": "0f7ecad6-8005-401e-be3e-32c257c7c5bd"
      },
      "execution_count": null,
      "outputs": [
        {
          "output_type": "stream",
          "name": "stdout",
          "text": [
            "tensor([2, 3, 4, 5]) cpu\n",
            "cuda:0\n"
          ]
        }
      ]
    },
    {
      "cell_type": "code",
      "source": [
        "# moving tensor back to cpu\n",
        "tensor5_back_to_cpu=tensor5_cuda.cpu()\n",
        "print(tensor5_cuda.device)\n",
        "\n",
        "print(tensor5_back_to_cpu.device)\n",
        "\n",
        "# cannot convert tensor to numpy array if the tensor is on gpu to move it to cpu then convert it to numpy array"
      ],
      "metadata": {
        "colab": {
          "base_uri": "https://localhost:8080/"
        },
        "id": "bMoDMJPvUwjf",
        "outputId": "86546a02-4333-41ec-edb2-c44de89a21ae"
      },
      "execution_count": null,
      "outputs": [
        {
          "output_type": "stream",
          "name": "stdout",
          "text": [
            "cuda:0\n",
            "cpu\n"
          ]
        }
      ]
    },
    {
      "cell_type": "code",
      "source": [],
      "metadata": {
        "id": "jQ_xxlXbV1SB"
      },
      "execution_count": null,
      "outputs": []
    }
  ]
}