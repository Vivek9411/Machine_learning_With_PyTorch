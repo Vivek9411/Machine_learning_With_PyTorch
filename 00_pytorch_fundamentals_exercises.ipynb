{
  "nbformat": 4,
  "nbformat_minor": 0,
  "metadata": {
    "colab": {
      "provenance": [],
      "gpuType": "T4"
    },
    "kernelspec": {
      "name": "python3",
      "display_name": "Python 3"
    },
    "language_info": {
      "name": "python"
    },
    "accelerator": "GPU"
  },
  "cells": [
    {
      "cell_type": "markdown",
      "source": [
        "# 00. PyTorch Fundamentals Exercises\n",
        "\n",
        "### 1. Documentation reading\n",
        "\n",
        "A big part of deep learning (and learning to code in general) is getting familiar with the documentation of a certain framework you're using. We'll be using the PyTorch documentation a lot throughout the rest of this course. So I'd recommend spending 10-minutes reading the following (it's okay if you don't get some things for now, the focus is not yet full understanding, it's awareness):\n",
        "  * The documentation on [`torch.Tensor`](https://pytorch.org/docs/stable/tensors.html#torch-tensor).\n",
        "  * The documentation on [`torch.cuda`](https://pytorch.org/docs/master/notes/cuda.html#cuda-semantics).\n",
        "\n"
      ],
      "metadata": {
        "id": "AzDBM_v4iMe7"
      }
    },
    {
      "cell_type": "code",
      "source": [
        "# No code solution (reading)"
      ],
      "metadata": {
        "id": "bGD0oD8Kizak"
      },
      "execution_count": null,
      "outputs": []
    },
    {
      "cell_type": "markdown",
      "source": [
        "### 2. Create a random tensor with shape `(7, 7)`.\n"
      ],
      "metadata": {
        "id": "__iXqqz-ioUJ"
      }
    },
    {
      "cell_type": "code",
      "source": [
        "# Import torch\n",
        "import torch\n",
        "\n",
        "import numpy as np\n",
        "\n",
        "# Create random tensor\n",
        "tensor1 = torch.rand(7,7)\n",
        "tensor1"
      ],
      "metadata": {
        "id": "6pUq9Dc8i2L7",
        "colab": {
          "base_uri": "https://localhost:8080/"
        },
        "outputId": "1a9c022b-424f-4098-8ef2-d9d747d7fe98"
      },
      "execution_count": null,
      "outputs": [
        {
          "output_type": "execute_result",
          "data": {
            "text/plain": [
              "tensor([[0.8122, 0.0034, 0.2275, 0.3399, 0.2878, 0.3082, 0.4330],\n",
              "        [0.9214, 0.3793, 0.3083, 0.8396, 0.6915, 0.5800, 0.6328],\n",
              "        [0.5612, 0.7030, 0.7574, 0.9567, 0.3947, 0.9285, 0.6547],\n",
              "        [0.9482, 0.0641, 0.2593, 0.0421, 0.0721, 0.2298, 0.9588],\n",
              "        [0.4794, 0.6707, 0.5701, 0.9614, 0.7834, 0.8116, 0.9049],\n",
              "        [0.1323, 0.1758, 0.3240, 0.7153, 0.8333, 0.6651, 0.3567],\n",
              "        [0.7085, 0.6188, 0.8266, 0.9290, 0.7287, 0.6268, 0.9769]])"
            ]
          },
          "metadata": {},
          "execution_count": 1
        }
      ]
    },
    {
      "cell_type": "markdown",
      "source": [
        "### 3. Perform a matrix multiplication on the tensor from 2 with another random tensor with shape `(1, 7)` (hint: you may have to transpose the second tensor)."
      ],
      "metadata": {
        "id": "9-XxvRLfiqkR"
      }
    },
    {
      "cell_type": "code",
      "source": [
        "# Create another random tensor\n",
        "tensor2 = torch.rand(1,7)\n",
        "# Perform matrix multiplication\n",
        "torch.matmul(tensor1,tensor2.T), tensor1@tensor2.T, torch.mm(tensor1,tensor2.T)"
      ],
      "metadata": {
        "id": "NcLqR0Sbi_vT",
        "colab": {
          "base_uri": "https://localhost:8080/"
        },
        "outputId": "59d3102d-8b52-409d-828d-8caf677e865c"
      },
      "execution_count": null,
      "outputs": [
        {
          "output_type": "execute_result",
          "data": {
            "text/plain": [
              "(tensor([[1.4473],\n",
              "         [2.4046],\n",
              "         [3.0528],\n",
              "         [1.8440],\n",
              "         [3.0507],\n",
              "         [1.7570],\n",
              "         [3.2173]]),\n",
              " tensor([[1.4473],\n",
              "         [2.4046],\n",
              "         [3.0528],\n",
              "         [1.8440],\n",
              "         [3.0507],\n",
              "         [1.7570],\n",
              "         [3.2173]]),\n",
              " tensor([[1.4473],\n",
              "         [2.4046],\n",
              "         [3.0528],\n",
              "         [1.8440],\n",
              "         [3.0507],\n",
              "         [1.7570],\n",
              "         [3.2173]]))"
            ]
          },
          "metadata": {},
          "execution_count": 2
        }
      ]
    },
    {
      "cell_type": "markdown",
      "source": [
        "### 4. Set the random seed to `0` and do 2 & 3 over again.\n",
        "\n",
        "The output should be:\n",
        "```\n",
        "(tensor([[1.8542],\n",
        "         [1.9611],\n",
        "         [2.2884],\n",
        "         [3.0481],\n",
        "         [1.7067],\n",
        "         [2.5290],\n",
        "         [1.7989]]), torch.Size([7, 1]))\n",
        "```"
      ],
      "metadata": {
        "id": "eiutdKUFiryU"
      }
    },
    {
      "cell_type": "code",
      "source": [
        "torch.manual_seed(0)\n",
        "\n",
        "# Create two random tensors\n",
        "X = torch.rand(size=(7, 7))\n",
        "Y = torch.rand(size=(1, 7))\n",
        "print(X)\n",
        "print(Y)\n",
        "# Matrix multiply tensors\n",
        "Z = torch.matmul(X, Y.T)\n",
        "Z, Z.shape"
      ],
      "metadata": {
        "colab": {
          "base_uri": "https://localhost:8080/"
        },
        "id": "PV7sKQ1QFToo",
        "outputId": "a579bde0-de09-49ee-fadf-29c6a334d033"
      },
      "execution_count": null,
      "outputs": [
        {
          "output_type": "stream",
          "name": "stdout",
          "text": [
            "tensor([[0.4963, 0.7682, 0.0885, 0.1320, 0.3074, 0.6341, 0.4901],\n",
            "        [0.8964, 0.4556, 0.6323, 0.3489, 0.4017, 0.0223, 0.1689],\n",
            "        [0.2939, 0.5185, 0.6977, 0.8000, 0.1610, 0.2823, 0.6816],\n",
            "        [0.9152, 0.3971, 0.8742, 0.4194, 0.5529, 0.9527, 0.0362],\n",
            "        [0.1852, 0.3734, 0.3051, 0.9320, 0.1759, 0.2698, 0.1507],\n",
            "        [0.0317, 0.2081, 0.9298, 0.7231, 0.7423, 0.5263, 0.2437],\n",
            "        [0.5846, 0.0332, 0.1387, 0.2422, 0.8155, 0.7932, 0.2783]])\n",
            "tensor([[0.4820, 0.8198, 0.9971, 0.6984, 0.5675, 0.8352, 0.2056]])\n"
          ]
        },
        {
          "output_type": "execute_result",
          "data": {
            "text/plain": [
              "(tensor([[1.8542],\n",
              "         [1.9611],\n",
              "         [2.2884],\n",
              "         [3.0481],\n",
              "         [1.7067],\n",
              "         [2.5290],\n",
              "         [1.7989]]),\n",
              " torch.Size([7, 1]))"
            ]
          },
          "metadata": {},
          "execution_count": 3
        }
      ]
    },
    {
      "cell_type": "markdown",
      "source": [
        "When you set the seed using torch.manual_seed(0) and then generate two tensors sequentially, the first tensor consumes part of the random number sequence, and the second tensor continues from where the first left off."
      ],
      "metadata": {
        "id": "oouC7OTqGiYz"
      }
    },
    {
      "cell_type": "code",
      "source": [
        "# Set manual seed\n",
        "torch.manual_seed(0)\n",
        "tensor3 = torch.rand(7,7)\n",
        "\n",
        "torch.manual_seed(0)\n",
        "tensor4 = torch.rand(1,7)\n",
        "# Create two random tensors\n",
        "\n",
        "print(tensor3)\n",
        "print(tensor4)\n",
        "# Matrix multiply tensors\n",
        "torch.matmul(tensor3, tensor4.T), tensor3@tensor4.T, torch.mm(tensor3,tensor4.T)"
      ],
      "metadata": {
        "id": "D-lOWI_1jRMm",
        "colab": {
          "base_uri": "https://localhost:8080/"
        },
        "outputId": "ed8eb4ab-ce51-46e8-9a2a-c489fe396ffa"
      },
      "execution_count": null,
      "outputs": [
        {
          "output_type": "stream",
          "name": "stdout",
          "text": [
            "tensor([[0.4963, 0.7682, 0.0885, 0.1320, 0.3074, 0.6341, 0.4901],\n",
            "        [0.8964, 0.4556, 0.6323, 0.3489, 0.4017, 0.0223, 0.1689],\n",
            "        [0.2939, 0.5185, 0.6977, 0.8000, 0.1610, 0.2823, 0.6816],\n",
            "        [0.9152, 0.3971, 0.8742, 0.4194, 0.5529, 0.9527, 0.0362],\n",
            "        [0.1852, 0.3734, 0.3051, 0.9320, 0.1759, 0.2698, 0.1507],\n",
            "        [0.0317, 0.2081, 0.9298, 0.7231, 0.7423, 0.5263, 0.2437],\n",
            "        [0.5846, 0.0332, 0.1387, 0.2422, 0.8155, 0.7932, 0.2783]])\n",
            "tensor([[0.4963, 0.7682, 0.0885, 0.1320, 0.3074, 0.6341, 0.4901]])\n"
          ]
        },
        {
          "output_type": "execute_result",
          "data": {
            "text/plain": [
              "(tensor([[1.5985],\n",
              "         [1.1173],\n",
              "         [1.2741],\n",
              "         [1.6838],\n",
              "         [0.8279],\n",
              "         [1.0347],\n",
              "         [1.2498]]),\n",
              " tensor([[1.5985],\n",
              "         [1.1173],\n",
              "         [1.2741],\n",
              "         [1.6838],\n",
              "         [0.8279],\n",
              "         [1.0347],\n",
              "         [1.2498]]),\n",
              " tensor([[1.5985],\n",
              "         [1.1173],\n",
              "         [1.2741],\n",
              "         [1.6838],\n",
              "         [0.8279],\n",
              "         [1.0347],\n",
              "         [1.2498]]))"
            ]
          },
          "metadata": {},
          "execution_count": 4
        }
      ]
    },
    {
      "cell_type": "markdown",
      "source": [
        "### 5. Speaking of random seeds, we saw how to set it with `torch.manual_seed()` but is there a GPU equivalent? (hint: you'll need to look into the documentation for `torch.cuda` for this one)\n",
        "  * If there is, set the GPU random seed to `1234`."
      ],
      "metadata": {
        "id": "ezY6ks9Cis37"
      }
    },
    {
      "cell_type": "code",
      "source": [
        "# Set random seed on the GPU\n",
        "torch.cuda.manual_seed(1234)\n",
        "device = 'cuda' if torch.cuda.is_available() else 'cpu'\n"
      ],
      "metadata": {
        "id": "_LKWcfSTjp00"
      },
      "execution_count": null,
      "outputs": []
    },
    {
      "cell_type": "markdown",
      "source": [
        "\n",
        "### 6. Create two random tensors of shape `(2, 3)` and send them both to the GPU (you'll need access to a GPU for this). Set `torch.manual_seed(1234)` when creating the tensors (this doesn't have to be the GPU random seed). The output should be something like:\n",
        "\n",
        "```\n",
        "Device: cuda\n",
        "(tensor([[0.0290, 0.4019, 0.2598],\n",
        "         [0.3666, 0.0583, 0.7006]], device='cuda:0'),\n",
        " tensor([[0.0518, 0.4681, 0.6738],\n",
        "         [0.3315, 0.7837, 0.5631]], device='cuda:0'))\n",
        "```"
      ],
      "metadata": {
        "id": "Ir9qSaj6it4n"
      }
    },
    {
      "cell_type": "code",
      "source": [
        "# Set random seed\n",
        "torch.manual_seed(1234)\n",
        "\n",
        "# Check for access to GPU\n",
        "\n",
        "\n",
        "# Create two random tensors on GPU\n",
        "x = torch.rand(2,3).to(device)\n",
        "y = torch.rand(2,3).to(device)\n"
      ],
      "metadata": {
        "id": "azXExiFZj5nm"
      },
      "execution_count": null,
      "outputs": []
    },
    {
      "cell_type": "code",
      "source": [
        "x,y"
      ],
      "metadata": {
        "colab": {
          "base_uri": "https://localhost:8080/"
        },
        "id": "g5nn7CQsK8xi",
        "outputId": "ce529260-361a-4c75-f422-61436049d0dd"
      },
      "execution_count": null,
      "outputs": [
        {
          "output_type": "execute_result",
          "data": {
            "text/plain": [
              "(tensor([[0.0290, 0.4019, 0.2598],\n",
              "         [0.3666, 0.0583, 0.7006]], device='cuda:0'),\n",
              " tensor([[0.0518, 0.4681, 0.6738],\n",
              "         [0.3315, 0.7837, 0.5631]], device='cuda:0'))"
            ]
          },
          "metadata": {},
          "execution_count": 13
        }
      ]
    },
    {
      "cell_type": "markdown",
      "source": [
        "\n",
        "### 7. Perform a matrix multiplication on the tensors you created in 6 (again, you may have to adjust the shapes of one of the tensors).\n",
        "\n",
        "The output should look like:\n",
        "```\n",
        "(tensor([[0.3647, 0.4709],\n",
        "         [0.5184, 0.5617]], device='cuda:0'), torch.Size([2, 2]))\n",
        "```"
      ],
      "metadata": {
        "id": "5TlAxeiSiu1y"
      }
    },
    {
      "cell_type": "code",
      "source": [
        "# Perform matmul on tensor_A and tensor_B\n",
        "result = x@y.T\n",
        "result"
      ],
      "metadata": {
        "id": "fAeG7ox0lHEO",
        "colab": {
          "base_uri": "https://localhost:8080/"
        },
        "outputId": "32a6e17b-e845-4a79-a4ac-eecfc8b7ec0b"
      },
      "execution_count": null,
      "outputs": [
        {
          "output_type": "execute_result",
          "data": {
            "text/plain": [
              "tensor([[0.3647, 0.4709],\n",
              "        [0.5184, 0.5617]], device='cuda:0')"
            ]
          },
          "metadata": {},
          "execution_count": 16
        }
      ]
    },
    {
      "cell_type": "markdown",
      "source": [
        "### 8. Find the maximum and minimum values of the output of 7."
      ],
      "metadata": {
        "id": "G7qfa5CSivwg"
      }
    },
    {
      "cell_type": "code",
      "source": [
        "# Find max\n",
        "print(result.max(), torch.max(result))\n",
        "\n",
        "# Find min\n",
        "print(result.min(), torch.min(result))\n"
      ],
      "metadata": {
        "id": "Fu8_3mZpllOd",
        "colab": {
          "base_uri": "https://localhost:8080/"
        },
        "outputId": "921c46fd-d052-40ce-da07-680fe771b30a"
      },
      "execution_count": null,
      "outputs": [
        {
          "output_type": "stream",
          "name": "stdout",
          "text": [
            "tensor(0.5617, device='cuda:0') tensor(0.5617, device='cuda:0')\n",
            "tensor(0.3647, device='cuda:0') tensor(0.3647, device='cuda:0')\n"
          ]
        }
      ]
    },
    {
      "cell_type": "markdown",
      "source": [
        "### 9. Find the maximum and minimum index values of the output of 7."
      ],
      "metadata": {
        "id": "wrTj5FgNiw47"
      }
    },
    {
      "cell_type": "code",
      "source": [
        "# Find arg max\n",
        "print(result.argmin(), torch.argmin(result))\n",
        "\n",
        "# Find arg min\n",
        "print(result.argmax(), torch.argmax(result))"
      ],
      "metadata": {
        "id": "CCEKt4K2lsfQ",
        "colab": {
          "base_uri": "https://localhost:8080/"
        },
        "outputId": "91363b8e-7d4d-4caf-eb9d-4ee30f10950e"
      },
      "execution_count": null,
      "outputs": [
        {
          "output_type": "stream",
          "name": "stdout",
          "text": [
            "tensor(0, device='cuda:0') tensor(0, device='cuda:0')\n",
            "tensor(3, device='cuda:0') tensor(3, device='cuda:0')\n"
          ]
        }
      ]
    },
    {
      "cell_type": "markdown",
      "source": [
        "\n",
        "### 10. Make a random tensor with shape `(1, 1, 1, 10)` and then create a new tensor with all the `1` dimensions removed to be left with a tensor of shape `(10)`. Set the seed to `7` when you create it and print out the first tensor and it's shape as well as the second tensor and it's shape.\n",
        "\n",
        "The output should look like:\n",
        "\n",
        "```\n",
        "tensor([[[[0.5349, 0.1988, 0.6592, 0.6569, 0.2328, 0.4251, 0.2071, 0.6297,\n",
        "           0.3653, 0.8513]]]]) torch.Size([1, 1, 1, 10])\n",
        "tensor([0.5349, 0.1988, 0.6592, 0.6569, 0.2328, 0.4251, 0.2071, 0.6297, 0.3653,\n",
        "        0.8513]) torch.Size([10])\n",
        "```"
      ],
      "metadata": {
        "id": "hmeybz4uixy7"
      }
    },
    {
      "cell_type": "code",
      "source": [
        "# Set seed\n",
        "torch.manual_seed(7)\n",
        "\n",
        "# Create random tensor\n",
        "x = torch.rand(1,1,1,10)\n",
        "print(x)\n",
        "\n",
        "# Remove single dimensions\n",
        "new_x = x.squeeze()\n",
        "\n",
        "# Print out tensors and their shapes\n",
        "print(new_x)\n",
        "print(new_x.shape)"
      ],
      "metadata": {
        "id": "TQ9zbRzVl1jV",
        "colab": {
          "base_uri": "https://localhost:8080/"
        },
        "outputId": "cbd454aa-661a-4db5-8be3-a21140c60b66"
      },
      "execution_count": null,
      "outputs": [
        {
          "output_type": "stream",
          "name": "stdout",
          "text": [
            "tensor([[[[0.5349, 0.1988, 0.6592, 0.6569, 0.2328, 0.4251, 0.2071, 0.6297,\n",
            "           0.3653, 0.8513]]]])\n",
            "tensor([0.5349, 0.1988, 0.6592, 0.6569, 0.2328, 0.4251, 0.2071, 0.6297, 0.3653,\n",
            "        0.8513])\n",
            "torch.Size([10])\n"
          ]
        }
      ]
    },
    {
      "cell_type": "code",
      "source": [],
      "metadata": {
        "id": "rZ_D0fmURf8L"
      },
      "execution_count": null,
      "outputs": []
    }
  ]
}