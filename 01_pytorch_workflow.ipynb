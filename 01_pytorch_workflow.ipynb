{
  "nbformat": 4,
  "nbformat_minor": 0,
  "metadata": {
    "colab": {
      "provenance": [],
      "authorship_tag": "ABX9TyP2pyazSDsH98qnffpBpOIj"
    },
    "kernelspec": {
      "name": "python3",
      "display_name": "Python 3"
    },
    "language_info": {
      "name": "python"
    }
  },
  "cells": [
    {
      "cell_type": "code",
      "execution_count": null,
      "metadata": {
        "id": "4Tq7rDioCJ4m"
      },
      "outputs": [],
      "source": [
        "import torch\n",
        "import numpy as np\n",
        "import pandas as pd\n",
        "import matplotlib.pyplot as plt"
      ]
    },
    {
      "cell_type": "code",
      "source": [
        "# from torch import nn\n",
        "from torch import nn # nn contains  sll of PyTorch's buildding blocks for neural network\n",
        "\n",
        "torch.__version__"
      ],
      "metadata": {
        "colab": {
          "base_uri": "https://localhost:8080/",
          "height": 36
        },
        "id": "kXHrgPSWbrYE",
        "outputId": "6df44b6e-dc4a-40b1-a621-13803fc51c2d"
      },
      "execution_count": null,
      "outputs": [
        {
          "output_type": "execute_result",
          "data": {
            "text/plain": [
              "'2.5.1+cu124'"
            ],
            "application/vnd.google.colaboratory.intrinsic+json": {
              "type": "string"
            }
          },
          "metadata": {},
          "execution_count": 2
        }
      ]
    },
    {
      "cell_type": "markdown",
      "source": [
        "# Data (preparaing and loading)\n",
        "\n",
        "data can be almost anything... in machine learning.\n",
        "\n",
        "* Excel spreadsheet\n",
        "* Image of any kind\n",
        "* Video\n",
        "* Audio\n",
        "* DNA\n",
        "* Text\n",
        "\n",
        "\n",
        "Machine learning is a game of two parts:\n",
        "1. Get data into a numerical representation.\n",
        "2. Build a model to learn patterns in that numerical representation.\n",
        "\n",
        "To showcase this,let's create some *known* data using the linear regression formula.\n",
        "\n",
        "we'll use a linear reggression formula to make a straight line with known parameters"
      ],
      "metadata": {
        "id": "eS5zHDsKdAsd"
      }
    },
    {
      "cell_type": "code",
      "source": [
        "# creating **known* parameters\n",
        "weight  = 0.7\n",
        "bias = 0.3\n",
        "\n",
        "# create\n",
        "start = 0\n",
        "end = 1\n",
        "step = 0.02\n",
        "\n",
        "X = torch.arange(start, end, step).unsqueeze(dim=1)\n",
        "y = weight*X+bias\n",
        "\n",
        "X[:10], y[:10]"
      ],
      "metadata": {
        "colab": {
          "base_uri": "https://localhost:8080/"
        },
        "id": "LKu9h6bFd6yI",
        "outputId": "750c8c4f-8bd0-4dd3-ea48-9156fe34606e"
      },
      "execution_count": null,
      "outputs": [
        {
          "output_type": "execute_result",
          "data": {
            "text/plain": [
              "(tensor([[0.0000],\n",
              "         [0.0200],\n",
              "         [0.0400],\n",
              "         [0.0600],\n",
              "         [0.0800],\n",
              "         [0.1000],\n",
              "         [0.1200],\n",
              "         [0.1400],\n",
              "         [0.1600],\n",
              "         [0.1800]]),\n",
              " tensor([[0.3000],\n",
              "         [0.3140],\n",
              "         [0.3280],\n",
              "         [0.3420],\n",
              "         [0.3560],\n",
              "         [0.3700],\n",
              "         [0.3840],\n",
              "         [0.3980],\n",
              "         [0.4120],\n",
              "         [0.4260]]))"
            ]
          },
          "metadata": {},
          "execution_count": 3
        }
      ]
    },
    {
      "cell_type": "code",
      "source": [
        "len(X), len(y)"
      ],
      "metadata": {
        "colab": {
          "base_uri": "https://localhost:8080/"
        },
        "id": "kqRxs9fOfSmx",
        "outputId": "93a9048f-07e0-4c10-ce2c-e032cb90362b"
      },
      "execution_count": null,
      "outputs": [
        {
          "output_type": "execute_result",
          "data": {
            "text/plain": [
              "(50, 50)"
            ]
          },
          "metadata": {},
          "execution_count": 4
        }
      ]
    },
    {
      "cell_type": "markdown",
      "source": [
        "### Splitiing data into training and test sets"
      ],
      "metadata": {
        "id": "3vkCHHUcfr-I"
      }
    },
    {
      "cell_type": "markdown",
      "source": [
        "#### Three datasets\n",
        "1. Traning set -> Traning the model 60-80%\n",
        "2. Validation set (cross validation set) -> Tune model patterns 10-20%\n",
        "3. Test set -> Test the perfomance of model (test Generalization of model ) 10-20%\n",
        "\n",
        "\n",
        "**Generalization** The ability for a machine learning model to perform well on data it hasn't seen before."
      ],
      "metadata": {
        "id": "7vhwm-PBgQOq"
      }
    },
    {
      "cell_type": "code",
      "source": [
        "# Lets create traning and testing set with  our data\n",
        "train_split = int(0.8*len(X))\n",
        "test_split = len(X)-train_split\n",
        "\n",
        "train_split, test_split"
      ],
      "metadata": {
        "colab": {
          "base_uri": "https://localhost:8080/"
        },
        "id": "I2vaMRdefW8X",
        "outputId": "d6b27ceb-44f7-4d25-ea64-878a9986693a"
      },
      "execution_count": null,
      "outputs": [
        {
          "output_type": "execute_result",
          "data": {
            "text/plain": [
              "(40, 10)"
            ]
          },
          "metadata": {},
          "execution_count": 5
        }
      ]
    },
    {
      "cell_type": "code",
      "source": [
        "X_train , y_train = X[:train_split], y[:train_split]\n",
        "X_test, y_test = X[train_split:], y[train_split:]\n",
        "\n",
        "len(X_train), len(y_train), len(X_test), len(y_test)"
      ],
      "metadata": {
        "colab": {
          "base_uri": "https://localhost:8080/"
        },
        "id": "6CnE0t8qhv9j",
        "outputId": "b9c73c06-062d-40c0-c62b-8622fd5da0e0"
      },
      "execution_count": null,
      "outputs": [
        {
          "output_type": "execute_result",
          "data": {
            "text/plain": [
              "(40, 40, 10, 10)"
            ]
          },
          "metadata": {},
          "execution_count": 6
        }
      ]
    },
    {
      "cell_type": "markdown",
      "source": [
        "### Building a function to represent(visualize) our data\n",
        "\"Visualize, visualize,visualize!\""
      ],
      "metadata": {
        "id": "wy4CPe32iVAZ"
      }
    },
    {
      "cell_type": "code",
      "source": [
        "def plot_predictions(train_data=X_train , train_labels=y_train, test_data=X_test, test_labels=y_test, predictions=None):\n",
        "    \"\"\" Plots training data, test data and compares predictions \"\"\"\n",
        "    plt.figure(figsize=(10,7))\n",
        "\n",
        "    # plot training data in blue\n",
        "    plt.scatter(train_data, train_labels, c='b', s=8, label='Training data')\n",
        "\n",
        "    # plot test data in green\n",
        "    plt.scatter(test_data, test_labels, c='g', s=8,label='Testing data')\n",
        "\n",
        "    #Are the predictions?\n",
        "    if predictions is not None:\n",
        "        # plot the predictions if they exist\n",
        "        plt.scatter(test_data, predictions, c='r', s=4, label='Predicted data')\n",
        "\n",
        "    # show the legend\n",
        "    plt.legend(prop={'size':14});\n"
      ],
      "metadata": {
        "id": "AiR0bVEeiJW-"
      },
      "execution_count": null,
      "outputs": []
    },
    {
      "cell_type": "code",
      "source": [
        "plot_predictions()"
      ],
      "metadata": {
        "colab": {
          "base_uri": "https://localhost:8080/",
          "height": 599
        },
        "id": "6L9zHgJVi38N",
        "outputId": "27f4f847-d291-4f41-9e30-ce48780549f9"
      },
      "execution_count": null,
      "outputs": [
        {
          "output_type": "display_data",
          "data": {
            "text/plain": [
              "<Figure size 1000x700 with 1 Axes>"
            ],
            "image/png": "[encoded data removed]"
          },
          "metadata": {}
        }
      ]
    },
    {
      "cell_type": "markdown",
      "source": [
        "### Creating the first  Pytorch Model for Linear Regression\n",
        "\n",
        "What our model does:\n",
        "* Start with random values (weight & bias)\n",
        "* Look at training data and adjust the random values to better represent(or get closer to ) the ideal values (the weight & bias values we used to create the data)\n",
        "\n",
        "\n",
        "How does it do so?\n",
        "1. Gradient Descent\n",
        "2. Backpropagation"
      ],
      "metadata": {
        "id": "EcTfhsMyk4hW"
      }
    },
    {
      "cell_type": "code",
      "source": [
        "# Create linear regression model class\n",
        "torch.manual_seed(42)\n",
        "class LinearRegressionModel(nn.Module): # <-  almost everything in PyTorch inherhits from nn.Module\n",
        "    def __init__(self):\n",
        "        super().__init__()\n",
        "        self.weight = nn.Parameter(torch.randn(1, #<- start with a random weight and try to adjust it to the ideal weight\n",
        "                                               requires_grad=True, #<- can this parameter be updated via gradient descent\n",
        "                                               dtype=torch.float)) #<- this is defalut datatype of pytorch tensor\n",
        "        self.bias = nn.Parameter(torch.randn(1, requires_grad=True, dtype=torch.float))\n",
        "\n",
        "    # Forward method to define the computation in the model\n",
        "    def forward(self, x:torch.Tensor)-> torch.Tensor: # <- \"x\" is the input data\n",
        "        return self.weight*x+ self.bias # this is the linear regression formula\n",
        "\n",
        "\n",
        "\n"
      ],
      "metadata": {
        "id": "Fe91CeaPkmY7"
      },
      "execution_count": null,
      "outputs": []
    },
    {
      "cell_type": "markdown",
      "source": [
        "### pytorch model building essentials\n",
        "\n",
        "* `torch.nn` - contains all of the building for computational graph (another word for a neural network/a neural network can be considered as a computational graph)\n",
        "\n",
        "* `torch.nn.parameters` - what paramenters should our model try and learn, often a Pytorch layer form torch.nn will set these for us\n",
        "\n",
        "* `torch.nn.Module` - The base class for all neural network modules, if you subclass it , you should overwrite forward()\n",
        "\n",
        "* `torch.optim` - this is where the optimizers in pytorch live, they will help with gradinet descent\n",
        "\n",
        "* `def forward()` - All nn.Module subclasses require to overide forward(), this method defines what happens in the forward computation"
      ],
      "metadata": {
        "id": "6l9RUXyrfBDP"
      }
    },
    {
      "cell_type": "code",
      "source": [
        "# create a random seed\n",
        "torch.manual_seed(42)\n",
        "\n",
        "# create an instanc of model (this is subclass of nn.Module)\n",
        "\n",
        "model_0 = LinearRegressionModel()\n",
        "\n",
        "# cheacking model parameters\n",
        "list(model_0.parameters())"
      ],
      "metadata": {
        "colab": {
          "base_uri": "https://localhost:8080/"
        },
        "id": "DUoi9T_zg6tf",
        "outputId": "57cc4927-4086-4d6a-b3ff-d90ffa9d7364"
      },
      "execution_count": null,
      "outputs": [
        {
          "output_type": "execute_result",
          "data": {
            "text/plain": [
              "[Parameter containing:\n",
              " tensor([0.3367], requires_grad=True),\n",
              " Parameter containing:\n",
              " tensor([0.1288], requires_grad=True)]"
            ]
          },
          "metadata": {},
          "execution_count": 10
        }
      ]
    },
    {
      "cell_type": "code",
      "source": [
        "# list named parameters\n",
        "model_0.state_dict()"
      ],
      "metadata": {
        "colab": {
          "base_uri": "https://localhost:8080/"
        },
        "id": "B2iSxA18iChD",
        "outputId": "62800179-453d-432c-d48b-2f705fba50af"
      },
      "execution_count": null,
      "outputs": [
        {
          "output_type": "execute_result",
          "data": {
            "text/plain": [
              "OrderedDict([('weight', tensor([0.3367])), ('bias', tensor([0.1288]))])"
            ]
          },
          "metadata": {},
          "execution_count": 11
        }
      ]
    },
    {
      "cell_type": "markdown",
      "source": [
        "### making predictions using `torch.inference_mode()`\n",
        "To check our model's predictive power, let's see how well it predicts `y_test` based on `X_test`\n",
        "\n",
        "When we pass data through our model, it's gonna run though the forward() method.\n",
        "\n",
        "`torch.inference_mode()` -> predicting mode (no gradient required)\n",
        "\n",
        "`torch.no_grad()` is similar to torch.inference_mode() but torch.inference_mode is somewhat better"
      ],
      "metadata": {
        "id": "SwQjTUHfdc2N"
      }
    },
    {
      "cell_type": "code",
      "source": [
        "X_test, y_test"
      ],
      "metadata": {
        "colab": {
          "base_uri": "https://localhost:8080/"
        },
        "id": "e3qfOW8KepSs",
        "outputId": "413eda96-6f2f-42b5-833b-1301596fdb2e"
      },
      "execution_count": null,
      "outputs": [
        {
          "output_type": "execute_result",
          "data": {
            "text/plain": [
              "(tensor([[0.8000],\n",
              "         [0.8200],\n",
              "         [0.8400],\n",
              "         [0.8600],\n",
              "         [0.8800],\n",
              "         [0.9000],\n",
              "         [0.9200],\n",
              "         [0.9400],\n",
              "         [0.9600],\n",
              "         [0.9800]]),\n",
              " tensor([[0.8600],\n",
              "         [0.8740],\n",
              "         [0.8880],\n",
              "         [0.9020],\n",
              "         [0.9160],\n",
              "         [0.9300],\n",
              "         [0.9440],\n",
              "         [0.9580],\n",
              "         [0.9720],\n",
              "         [0.9860]]))"
            ]
          },
          "metadata": {},
          "execution_count": 12
        }
      ]
    },
    {
      "cell_type": "code",
      "source": [
        "#with prediction with model\n",
        "with torch.inference_mode(): #<- turns of the gradient traking as while making predictions we are not traning network so gradient is not required\n",
        "    y_preds = model_0(X_test)\n",
        "\n",
        "y_preds"
      ],
      "metadata": {
        "colab": {
          "base_uri": "https://localhost:8080/"
        },
        "id": "t2UUcJTvilbj",
        "outputId": "43b2a8f1-cc54-4c11-a59b-18c96f85c118"
      },
      "execution_count": null,
      "outputs": [
        {
          "output_type": "execute_result",
          "data": {
            "text/plain": [
              "tensor([[0.3982],\n",
              "        [0.4049],\n",
              "        [0.4116],\n",
              "        [0.4184],\n",
              "        [0.4251],\n",
              "        [0.4318],\n",
              "        [0.4386],\n",
              "        [0.4453],\n",
              "        [0.4520],\n",
              "        [0.4588]])"
            ]
          },
          "metadata": {},
          "execution_count": 13
        }
      ]
    },
    {
      "cell_type": "code",
      "source": [
        "plot_predictions(predictions=y_preds)"
      ],
      "metadata": {
        "colab": {
          "base_uri": "https://localhost:8080/",
          "height": 599
        },
        "id": "O7PaKGeweiMC",
        "outputId": "a3c80473-b351-4712-dfa2-bb7562cef6f6"
      },
      "execution_count": null,
      "outputs": [
        {
          "output_type": "display_data",
          "data": {
            "text/plain": [
              "<Figure size 1000x700 with 1 Axes>"
            ],
            "image/png": "[encoded data removed]"
          },
          "metadata": {}
        }
      ]
    },
    {
      "cell_type": "markdown",
      "source": [
        "## Training the Model\n",
        "\n",
        "Idea of traning is move  the model from poor representation of data to better representation of data.\n",
        "\n",
        "`cost function` or `loss function` function that measures how bad the model perdictions are.\n",
        "\n",
        "Things we need to train:\n",
        "* **Loss function:** A function to measure how wrong your model's predictions are to the ideal output, lower is better\n",
        "* **Optimizer:** Takes into account the loss of a model and adjust the model's paramenters (e.g.  weight & bias) `torch.optim`\n",
        "\n",
        "\n",
        "And specifically for PyTorch, we need:\n",
        "* A training loop\n",
        "* A testing loop\n"
      ],
      "metadata": {
        "id": "x291CQUhhAqt"
      }
    },
    {
      "cell_type": "code",
      "source": [
        "list(model_0.parameters())"
      ],
      "metadata": {
        "colab": {
          "base_uri": "https://localhost:8080/"
        },
        "id": "Khu4-ZyefXLJ",
        "outputId": "366f0aec-69cc-4305-bbad-4a00ecd822c7"
      },
      "execution_count": null,
      "outputs": [
        {
          "output_type": "execute_result",
          "data": {
            "text/plain": [
              "[Parameter containing:\n",
              " tensor([0.3367], requires_grad=True),\n",
              " Parameter containing:\n",
              " tensor([0.1288], requires_grad=True)]"
            ]
          },
          "metadata": {},
          "execution_count": 15
        }
      ]
    },
    {
      "cell_type": "code",
      "source": [
        "model_0.state_dict()"
      ],
      "metadata": {
        "colab": {
          "base_uri": "https://localhost:8080/"
        },
        "id": "I6iDJfWRlim2",
        "outputId": "7a2809e6-d61a-4bed-c49d-68e25fa6ca77"
      },
      "execution_count": null,
      "outputs": [
        {
          "output_type": "execute_result",
          "data": {
            "text/plain": [
              "OrderedDict([('weight', tensor([0.3367])), ('bias', tensor([0.1288]))])"
            ]
          },
          "metadata": {},
          "execution_count": 16
        }
      ]
    },
    {
      "cell_type": "code",
      "source": [
        "# setup a loss function mean abs error loss function\n",
        "loss_fn = nn.L1Loss()\n",
        "\n",
        "\n",
        "# setup an optimiser (stochastic gradient descent)\n",
        "optimizer = torch.optim.SGD(model_0.parameters(),\n",
        "                            lr =0.01) #lr = learning rate = possibly the most important hyperparameter\n",
        "\n"
      ],
      "metadata": {
        "id": "y_ZOgwZLlzxZ"
      },
      "execution_count": null,
      "outputs": []
    },
    {
      "cell_type": "markdown",
      "source": [],
      "metadata": {
        "id": "iIB2jbX-pz01"
      }
    },
    {
      "cell_type": "markdown",
      "source": [
        "## Building a training loop (and a testing loop) in PyTorch\n",
        "\n",
        "A couple of thing we need in a training loop:\n",
        "0. Loop through the data\n",
        "1. Forward pass ( this involvs data moving through our model's `forward()` function ) to make predictions on data - also called forward propogation\n",
        "2. calculate the loss (compare forward pass predictions tp ground truth labels)\n",
        "3. optimiser zero grad\n",
        "4. loss backwards - moves backward trough the network to calculate the gradients of each of the parameteres of our model with respect to the loss (**backpropagation**)\n",
        "5. optimizer step - use the optimizer to adjust our model's parameters to try and improve the loss (**gradient descent**)"
      ],
      "metadata": {
        "id": "RZCAGm24pipY"
      }
    },
    {
      "cell_type": "code",
      "source": [
        "# an epoch is oe loop through the data... (this is a hyperpaarameters because we've set it)\n",
        "epochs =100\n",
        "\n",
        "# Track different values\n",
        "epoch_count = []\n",
        "loss_values = []\n",
        "test_loss_values = []\n",
        "\n",
        "\n",
        "### training\n",
        "# 0. Loop through the data\n",
        "for epoch in range(epochs):\n",
        "    # set the model to training mode\n",
        "    model_0.train() #train mode in PyTorch  sets all paramters that require gradients to require gradients\n",
        "\n",
        "    # 1. Forward pass\n",
        "    y_pred = model_0(X_train)\n",
        "\n",
        "    # 2. calculate the loss\n",
        "    loss = loss_fn(y_pred, y_train)\n",
        "    print(f\"Loss: {loss}\")\n",
        "\n",
        "    # 3. optimizer zero grad\n",
        "    optimizer.zero_grad()\n",
        "    # by default how the optimizer change will acumulate through the loop so... we have to zero them so previous optimizer gets clear out\n",
        "\n",
        "    # 4. Perform backpropagation on the loss with respect to the parameters of the model\n",
        "    loss.backward()\n",
        "\n",
        "    # 5. Step the optimizer (perform gradinet descent)\n",
        "    optimizer.step()\n",
        "\n",
        "    # evaluating the model\n",
        "\n",
        "\n",
        "    model_0.eval() # turns off diffrent settings in the model not needed for  evaluation/testing\n",
        "\n",
        "\n",
        "\n",
        "    with torch.inference_mode(): #turns  of gradient traking & a couple of more things behind the scenes\n",
        "        #1. Do the forward pass\n",
        "        test_pred = model_0(X_test)\n",
        "\n",
        "        #2. calculate the test loss\n",
        "        test_loss = loss_fn(test_pred, y_test)\n",
        "    if epoch%10==0:\n",
        "        epoch_count.append(epoch)\n",
        "        loss_values.append(loss)\n",
        "        test_loss_values.append(test_loss)\n",
        "        print(f\"Epoch: {epoch} | loss: {loss} | Test loss : {test_loss}\")\n",
        "        # Print out model state_dict()\n",
        "        print(model_0.state_dict())\n"
      ],
      "metadata": {
        "colab": {
          "base_uri": "https://localhost:8080/"
        },
        "id": "eUxbbfSRok1P",
        "outputId": "8caf26dc-83f1-4cd6-d778-7211de0b32b6"
      },
      "execution_count": null,
      "outputs": [
        {
          "output_type": "stream",
          "name": "stdout",
          "text": [
            "Loss: 0.31288138031959534\n",
            "Epoch: 0 | loss: 0.31288138031959534 | Test loss : 0.48106518387794495\n",
            "OrderedDict([('weight', tensor([0.3406])), ('bias', tensor([0.1388]))])\n",
            "Loss: 0.3013603389263153\n",
            "Loss: 0.28983935713768005\n",
            "Loss: 0.2783183455467224\n",
            "Loss: 0.26679736375808716\n",
            "Loss: 0.2552763521671295\n",
            "Loss: 0.24375534057617188\n",
            "Loss: 0.23223432898521423\n",
            "Loss: 0.22071333229541779\n",
            "Loss: 0.20919232070446014\n",
            "Loss: 0.1976713240146637\n",
            "Epoch: 10 | loss: 0.1976713240146637 | Test loss : 0.3463551998138428\n",
            "OrderedDict([('weight', tensor([0.3796])), ('bias', tensor([0.2388]))])\n",
            "Loss: 0.18615034222602844\n",
            "Loss: 0.1746293306350708\n",
            "Loss: 0.16310831904411316\n",
            "Loss: 0.1515873372554779\n",
            "Loss: 0.14006635546684265\n",
            "Loss: 0.1285453587770462\n",
            "Loss: 0.11702437698841095\n",
            "Loss: 0.1060912236571312\n",
            "Loss: 0.09681284427642822\n",
            "Loss: 0.08908725529909134\n",
            "Epoch: 20 | loss: 0.08908725529909134 | Test loss : 0.21729660034179688\n",
            "OrderedDict([('weight', tensor([0.4184])), ('bias', tensor([0.3333]))])\n",
            "Loss: 0.08227583020925522\n",
            "Loss: 0.07638873159885406\n",
            "Loss: 0.07160007208585739\n",
            "Loss: 0.06747635453939438\n",
            "Loss: 0.06395438313484192\n",
            "Loss: 0.06097004935145378\n",
            "Loss: 0.05845819041132927\n",
            "Loss: 0.05635259300470352\n",
            "Loss: 0.0545857772231102\n",
            "Loss: 0.053148526698350906\n",
            "Epoch: 30 | loss: 0.053148526698350906 | Test loss : 0.14464017748832703\n",
            "OrderedDict([('weight', tensor([0.4512])), ('bias', tensor([0.3768]))])\n",
            "Loss: 0.05181945487856865\n",
            "Loss: 0.05069301277399063\n",
            "Loss: 0.0498228520154953\n",
            "Loss: 0.04895269125699997\n",
            "Loss: 0.04819351062178612\n",
            "Loss: 0.047531817108392715\n",
            "Loss: 0.04692792519927025\n",
            "Loss: 0.04642331600189209\n",
            "Loss: 0.04591871052980423\n",
            "Loss: 0.04543796554207802\n",
            "Epoch: 40 | loss: 0.04543796554207802 | Test loss : 0.11360953003168106\n",
            "OrderedDict([('weight', tensor([0.4748])), ('bias', tensor([0.3868]))])\n",
            "Loss: 0.04503796249628067\n",
            "Loss: 0.04463795945048332\n",
            "Loss: 0.04423796385526657\n",
            "Loss: 0.04383796453475952\n",
            "Loss: 0.04343796148896217\n",
            "Loss: 0.043074630200862885\n",
            "Loss: 0.04272563382983208\n",
            "Loss: 0.04237663000822067\n",
            "Loss: 0.04202762991189957\n",
            "Loss: 0.04167863354086876\n",
            "Epoch: 50 | loss: 0.04167863354086876 | Test loss : 0.09919948130846024\n",
            "OrderedDict([('weight', tensor([0.4938])), ('bias', tensor([0.3843]))])\n",
            "Loss: 0.04132963344454765\n",
            "Loss: 0.04098063334822655\n",
            "Loss: 0.04063162952661514\n",
            "Loss: 0.040282636880874634\n",
            "Loss: 0.039933640509843826\n",
            "Loss: 0.03958464413881302\n",
            "Loss: 0.03923564404249191\n",
            "Loss: 0.03888664394617081\n",
            "Loss: 0.0385376438498497\n",
            "Loss: 0.03818932920694351\n",
            "Epoch: 60 | loss: 0.03818932920694351 | Test loss : 0.08886633068323135\n",
            "OrderedDict([('weight', tensor([0.5116])), ('bias', tensor([0.3788]))])\n",
            "Loss: 0.03785243630409241\n",
            "Loss: 0.0375034399330616\n",
            "Loss: 0.037164121866226196\n",
            "Loss: 0.03681822493672371\n",
            "Loss: 0.03647511452436447\n",
            "Loss: 0.03613303601741791\n",
            "Loss: 0.03578609973192215\n",
            "Loss: 0.03544783592224121\n",
            "Loss: 0.035098835825920105\n",
            "Loss: 0.03476089984178543\n",
            "Epoch: 70 | loss: 0.03476089984178543 | Test loss : 0.0805937647819519\n",
            "OrderedDict([('weight', tensor([0.5288])), ('bias', tensor([0.3718]))])\n",
            "Loss: 0.03441363573074341\n",
            "Loss: 0.03407188132405281\n",
            "Loss: 0.03372843936085701\n",
            "Loss: 0.03338287025690079\n",
            "Loss: 0.033043231815099716\n",
            "Loss: 0.03269423171877861\n",
            "Loss: 0.032357655465602875\n",
            "Loss: 0.03200903534889221\n",
            "Loss: 0.03166864812374115\n",
            "Loss: 0.03132382780313492\n",
            "Epoch: 80 | loss: 0.03132382780313492 | Test loss : 0.07232122868299484\n",
            "OrderedDict([('weight', tensor([0.5459])), ('bias', tensor([0.3648]))])\n",
            "Loss: 0.030979642644524574\n",
            "Loss: 0.030638623982667923\n",
            "Loss: 0.0302906334400177\n",
            "Loss: 0.029953425750136375\n",
            "Loss: 0.02960442565381527\n",
            "Loss: 0.029265418648719788\n",
            "Loss: 0.028919223695993423\n",
            "Loss: 0.028576409444212914\n",
            "Loss: 0.028234025463461876\n",
            "Loss: 0.02788739837706089\n",
            "Epoch: 90 | loss: 0.02788739837706089 | Test loss : 0.06473556160926819\n",
            "OrderedDict([('weight', tensor([0.5629])), ('bias', tensor([0.3573]))])\n",
            "Loss: 0.02754882536828518\n",
            "Loss: 0.027199819684028625\n",
            "Loss: 0.026862185448408127\n",
            "Loss: 0.02651461586356163\n",
            "Loss: 0.026173178106546402\n",
            "Loss: 0.025829419493675232\n",
            "Loss: 0.02548416517674923\n",
            "Loss: 0.025144213810563087\n",
            "Loss: 0.02479521557688713\n"
          ]
        }
      ]
    },
    {
      "cell_type": "code",
      "source": [
        "model_0.state_dict()"
      ],
      "metadata": {
        "colab": {
          "base_uri": "https://localhost:8080/"
        },
        "id": "vPMr7idjqKkm",
        "outputId": "a4a6477a-97ff-41d5-df7c-3941c3488d8b"
      },
      "execution_count": null,
      "outputs": [
        {
          "output_type": "execute_result",
          "data": {
            "text/plain": [
              "OrderedDict([('weight', tensor([0.5784])), ('bias', tensor([0.3513]))])"
            ]
          },
          "metadata": {},
          "execution_count": 19
        }
      ]
    },
    {
      "cell_type": "code",
      "source": [
        "model_0.state_dict()"
      ],
      "metadata": {
        "colab": {
          "base_uri": "https://localhost:8080/"
        },
        "id": "4J-fQFNHVBwH",
        "outputId": "a39f478e-7d30-40ea-e40e-7de49f87a109"
      },
      "execution_count": null,
      "outputs": [
        {
          "output_type": "execute_result",
          "data": {
            "text/plain": [
              "OrderedDict([('weight', tensor([0.5784])), ('bias', tensor([0.3513]))])"
            ]
          },
          "metadata": {},
          "execution_count": 20
        }
      ]
    },
    {
      "cell_type": "code",
      "source": [
        "model_0.state_dict()"
      ],
      "metadata": {
        "colab": {
          "base_uri": "https://localhost:8080/"
        },
        "id": "rI7ie_QkW6NS",
        "outputId": "e8f4d73e-820f-4b12-e0d0-9c318c6d758e"
      },
      "execution_count": null,
      "outputs": [
        {
          "output_type": "execute_result",
          "data": {
            "text/plain": [
              "OrderedDict([('weight', tensor([0.5784])), ('bias', tensor([0.3513]))])"
            ]
          },
          "metadata": {},
          "execution_count": 21
        }
      ]
    },
    {
      "cell_type": "code",
      "source": [
        "model_0.state_dict()"
      ],
      "metadata": {
        "colab": {
          "base_uri": "https://localhost:8080/"
        },
        "id": "KsrUwIJmXcVQ",
        "outputId": "8e1ddc5f-e0cf-4522-f8ca-c5054f5981e6"
      },
      "execution_count": null,
      "outputs": [
        {
          "output_type": "execute_result",
          "data": {
            "text/plain": [
              "OrderedDict([('weight', tensor([0.5784])), ('bias', tensor([0.3513]))])"
            ]
          },
          "metadata": {},
          "execution_count": 22
        }
      ]
    },
    {
      "cell_type": "code",
      "source": [
        "with torch.inference_mode():\n",
        "    y_pred = model_0(X_test)"
      ],
      "metadata": {
        "id": "9pc-MGHFXiap"
      },
      "execution_count": null,
      "outputs": []
    },
    {
      "cell_type": "code",
      "source": [
        "y_pred"
      ],
      "metadata": {
        "colab": {
          "base_uri": "https://localhost:8080/"
        },
        "id": "RTPrdx4sYQQg",
        "outputId": "199d2c84-00a1-4b72-b4c0-465db416c85f"
      },
      "execution_count": null,
      "outputs": [
        {
          "output_type": "execute_result",
          "data": {
            "text/plain": [
              "tensor([[0.8141],\n",
              "        [0.8256],\n",
              "        [0.8372],\n",
              "        [0.8488],\n",
              "        [0.8603],\n",
              "        [0.8719],\n",
              "        [0.8835],\n",
              "        [0.8950],\n",
              "        [0.9066],\n",
              "        [0.9182]])"
            ]
          },
          "metadata": {},
          "execution_count": 24
        }
      ]
    },
    {
      "cell_type": "code",
      "source": [
        "plot_predictions(predictions=y_pred)"
      ],
      "metadata": {
        "colab": {
          "base_uri": "https://localhost:8080/",
          "height": 599
        },
        "id": "EPZ4HeyLYREr",
        "outputId": "3c9b65ad-e317-4cc8-99d4-e2d23dc07222"
      },
      "execution_count": null,
      "outputs": [
        {
          "output_type": "display_data",
          "data": {
            "text/plain": [
              "<Figure size 1000x700 with 1 Axes>"
            ],
            "image/png": "[encoded data removed]"
          },
          "metadata": {}
        }
      ]
    },
    {
      "cell_type": "code",
      "source": [
        "# plot the loss curves\n",
        "plt.plot(epoch_count, torch.tensor(loss_values).numpy(), label = 'Train loss')\n",
        "plt.plot(epoch_count, test_loss_values, label='Test loss')\n",
        "plt.title(\"Training and test loss curves\")\n",
        "plt.xlabel('Epoch')\n",
        "plt.ylabel(\"Loss\")\n",
        "plt.legend();"
      ],
      "metadata": {
        "colab": {
          "base_uri": "https://localhost:8080/",
          "height": 472
        },
        "id": "sO1DLhRQYkcD",
        "outputId": "aa29294a-9c2d-4aac-c7c9-cb1fff0bf787"
      },
      "execution_count": null,
      "outputs": [
        {
          "output_type": "display_data",
          "data": {
            "text/plain": [
              "<Figure size 640x480 with 1 Axes>"
            ],
            "image/png": "[encoded data removed]"
          },
          "metadata": {}
        }
      ]
    },
    {
      "cell_type": "markdown",
      "source": [
        "# Saving a model in PyTorch\n",
        "\n",
        "There are three main methods you should about for saving and loading models in PyTorch.\n",
        "\n",
        "1. `torch.save()` - allows you save a PyTorch object in Python'a pickel format\n",
        "2. `torch.load()` - allows you to load a saved PyTorch object\n",
        "3. `torch.nn.Module.load_state_dict()` - this allows to load a model's saved state dictionary"
      ],
      "metadata": {
        "id": "NfEOPCnqh534"
      }
    },
    {
      "cell_type": "code",
      "source": [
        "# Saving our PyTorch model\n",
        "from pathlib import Path\n",
        "# 1. Create models directory\n",
        "MODEL_PATH = Path(\"models\")\n",
        "MODEL_PATH.mkdir(parents=True, exist_ok=True)\n",
        "\n",
        "#2, Create model save path\n",
        "MODEL_NAME = '01_workflow_model_0.pth'\n",
        "MODEL_SAVE_PATH = MODEL_PATH / MODEL_NAME\n",
        "\n",
        "# Save the model state dict\n",
        "torch.save(obj=model_0.state_dict(), f=MODEL_SAVE_PATH)\n",
        "print(f\"Saving model to: {MODEL_SAVE_PATH}\")\n"
      ],
      "metadata": {
        "id": "zxfBGJcVe27m",
        "colab": {
          "base_uri": "https://localhost:8080/"
        },
        "outputId": "03ac2e6a-d768-4494-9777-20562f298e31"
      },
      "execution_count": null,
      "outputs": [
        {
          "output_type": "stream",
          "name": "stdout",
          "text": [
            "Saving model to: models/01_workflow_model_0.pth\n"
          ]
        }
      ]
    },
    {
      "cell_type": "markdown",
      "source": [
        "## Loading a PyTorch model\n",
        "Since we saved our model's `state_dict()` ranther then entire model, we'll create new instance f our model class and load the saved `state_dict()` into that."
      ],
      "metadata": {
        "id": "C4_e03Bfk05y"
      }
    },
    {
      "cell_type": "code",
      "source": [
        "# new instance of model\n",
        "loaded_model_0 = LinearRegressionModel()\n"
      ],
      "metadata": {
        "id": "1iXE-3OEmQ3a"
      },
      "execution_count": null,
      "outputs": []
    },
    {
      "cell_type": "code",
      "source": [
        "# loading the model\n",
        "load_model_state_dict = torch.load(MODEL_SAVE_PATH)\n",
        "\n",
        "# loading state_dict of new instance of model\n",
        "loaded_model_0.load_state_dict(load_model_state_dict)\n",
        "\n",
        "loaded_model_0.state_dict()\n"
      ],
      "metadata": {
        "colab": {
          "base_uri": "https://localhost:8080/"
        },
        "id": "4xngeGrNmZeg",
        "outputId": "d6d2a938-cf9a-429d-b9c9-99a293896116"
      },
      "execution_count": null,
      "outputs": [
        {
          "output_type": "stream",
          "name": "stderr",
          "text": [
            "<ipython-input-29-57111098d15d>:2: FutureWarning: You are using `torch.load` with `weights_only=False` (the current default value), which uses the default pickle module implicitly. It is possible to construct malicious pickle data which will execute arbitrary code during unpickling (See https://github.com/pytorch/pytorch/blob/main/SECURITY.md#untrusted-models for more details). In a future release, the default value for `weights_only` will be flipped to `True`. This limits the functions that could be executed during unpickling. Arbitrary objects will no longer be allowed to be loaded via this mode unless they are explicitly allowlisted by the user via `torch.serialization.add_safe_globals`. We recommend you start setting `weights_only=True` for any use case where you don't have full control of the loaded file. Please open an issue on GitHub for any issues related to this experimental feature.\n",
            "  load_model_state_dict = torch.load(MODEL_SAVE_PATH)\n"
          ]
        },
        {
          "output_type": "execute_result",
          "data": {
            "text/plain": [
              "OrderedDict([('weight', tensor([0.5784])), ('bias', tensor([0.3513]))])"
            ]
          },
          "metadata": {},
          "execution_count": 29
        }
      ]
    },
    {
      "cell_type": "code",
      "source": [],
      "metadata": {
        "id": "EuAov_pXnm2D"
      },
      "execution_count": null,
      "outputs": []
    },
    {
      "cell_type": "markdown",
      "source": [
        "# Putting it all together"
      ],
      "metadata": {
        "id": "pkVd4fSmNSuP"
      }
    },
    {
      "cell_type": "code",
      "source": [
        "# Import PyTorch and matplotlib\n",
        "import torch\n",
        "import matplotlib.pyplot as plt\n",
        "from torch import nn\n"
      ],
      "metadata": {
        "id": "2Yc8DClgNRtp"
      },
      "execution_count": null,
      "outputs": []
    },
    {
      "cell_type": "markdown",
      "source": [
        "create device agnostic code"
      ],
      "metadata": {
        "id": "nMEj6eBgNmOY"
      }
    },
    {
      "cell_type": "code",
      "source": [
        "# setup device agnostic code\n",
        "device = 'cuda' if torch.cuda.is_available() else 'cpu'\n",
        "device"
      ],
      "metadata": {
        "colab": {
          "base_uri": "https://localhost:8080/",
          "height": 36
        },
        "id": "u94oUkOwNfhF",
        "outputId": "81f3ca31-b1ac-4543-bbe1-d55ddd33154a"
      },
      "execution_count": null,
      "outputs": [
        {
          "output_type": "execute_result",
          "data": {
            "text/plain": [
              "'cpu'"
            ],
            "application/vnd.google.colaboratory.intrinsic+json": {
              "type": "string"
            }
          },
          "metadata": {},
          "execution_count": 40
        }
      ]
    },
    {
      "cell_type": "markdown",
      "source": [
        "Data (re-create some data)"
      ],
      "metadata": {
        "id": "M057fenUOYxa"
      }
    },
    {
      "cell_type": "code",
      "source": [
        "# create some data using  the linear regression formula y = weight*X+bias\n",
        "\n",
        "weight = 0.9\n",
        "bias = 0.3\n",
        "\n",
        "# creating range values\n",
        "\n",
        "start = 0\n",
        "end = 1\n",
        "step = 0.02\n",
        "\n",
        "# create x and y\n",
        "\n",
        "X = torch.arange(start, end, step).unsqueeze(dim=1)\n",
        "print(X)\n",
        "\n",
        "y = X*weight+bias\n",
        "print(y)\n",
        "X.shape, y.shape"
      ],
      "metadata": {
        "colab": {
          "base_uri": "https://localhost:8080/"
        },
        "id": "hgNjkt4BOii5",
        "outputId": "152f6cf2-46ad-46ba-f5de-555e5fd29cf2"
      },
      "execution_count": null,
      "outputs": [
        {
          "output_type": "stream",
          "name": "stdout",
          "text": [
            "tensor([[0.0000],\n",
            "        [0.0200],\n",
            "        [0.0400],\n",
            "        [0.0600],\n",
            "        [0.0800],\n",
            "        [0.1000],\n",
            "        [0.1200],\n",
            "        [0.1400],\n",
            "        [0.1600],\n",
            "        [0.1800],\n",
            "        [0.2000],\n",
            "        [0.2200],\n",
            "        [0.2400],\n",
            "        [0.2600],\n",
            "        [0.2800],\n",
            "        [0.3000],\n",
            "        [0.3200],\n",
            "        [0.3400],\n",
            "        [0.3600],\n",
            "        [0.3800],\n",
            "        [0.4000],\n",
            "        [0.4200],\n",
            "        [0.4400],\n",
            "        [0.4600],\n",
            "        [0.4800],\n",
            "        [0.5000],\n",
            "        [0.5200],\n",
            "        [0.5400],\n",
            "        [0.5600],\n",
            "        [0.5800],\n",
            "        [0.6000],\n",
            "        [0.6200],\n",
            "        [0.6400],\n",
            "        [0.6600],\n",
            "        [0.6800],\n",
            "        [0.7000],\n",
            "        [0.7200],\n",
            "        [0.7400],\n",
            "        [0.7600],\n",
            "        [0.7800],\n",
            "        [0.8000],\n",
            "        [0.8200],\n",
            "        [0.8400],\n",
            "        [0.8600],\n",
            "        [0.8800],\n",
            "        [0.9000],\n",
            "        [0.9200],\n",
            "        [0.9400],\n",
            "        [0.9600],\n",
            "        [0.9800]])\n",
            "tensor([[0.3000],\n",
            "        [0.3180],\n",
            "        [0.3360],\n",
            "        [0.3540],\n",
            "        [0.3720],\n",
            "        [0.3900],\n",
            "        [0.4080],\n",
            "        [0.4260],\n",
            "        [0.4440],\n",
            "        [0.4620],\n",
            "        [0.4800],\n",
            "        [0.4980],\n",
            "        [0.5160],\n",
            "        [0.5340],\n",
            "        [0.5520],\n",
            "        [0.5700],\n",
            "        [0.5880],\n",
            "        [0.6060],\n",
            "        [0.6240],\n",
            "        [0.6420],\n",
            "        [0.6600],\n",
            "        [0.6780],\n",
            "        [0.6960],\n",
            "        [0.7140],\n",
            "        [0.7320],\n",
            "        [0.7500],\n",
            "        [0.7680],\n",
            "        [0.7860],\n",
            "        [0.8040],\n",
            "        [0.8220],\n",
            "        [0.8400],\n",
            "        [0.8580],\n",
            "        [0.8760],\n",
            "        [0.8940],\n",
            "        [0.9120],\n",
            "        [0.9300],\n",
            "        [0.9480],\n",
            "        [0.9660],\n",
            "        [0.9840],\n",
            "        [1.0020],\n",
            "        [1.0200],\n",
            "        [1.0380],\n",
            "        [1.0560],\n",
            "        [1.0740],\n",
            "        [1.0920],\n",
            "        [1.1100],\n",
            "        [1.1280],\n",
            "        [1.1460],\n",
            "        [1.1640],\n",
            "        [1.1820]])\n"
          ]
        },
        {
          "output_type": "execute_result",
          "data": {
            "text/plain": [
              "(torch.Size([50, 1]), torch.Size([50, 1]))"
            ]
          },
          "metadata": {},
          "execution_count": 41
        }
      ]
    },
    {
      "cell_type": "code",
      "source": [],
      "metadata": {
        "id": "inx4IlnIQ9Ir"
      },
      "execution_count": null,
      "outputs": []
    },
    {
      "cell_type": "code",
      "source": [
        "# split the data\n",
        "train_split = int(0.8*len(X))\n",
        "\n",
        "X_train = X[:train_split]\n",
        "y_train = y[:train_split]\n",
        "X_test = X[train_split:]\n",
        "y_test = y [train_split:]\n",
        "X_train.shape, y_train.shape, X_test.shape ,y_test.shape"
      ],
      "metadata": {
        "colab": {
          "base_uri": "https://localhost:8080/"
        },
        "id": "NrDyk7iLP1sN",
        "outputId": "a2b08f0d-ef5c-4a64-eb27-b5c2a9eb1555"
      },
      "execution_count": null,
      "outputs": [
        {
          "output_type": "execute_result",
          "data": {
            "text/plain": [
              "(torch.Size([40, 1]),\n",
              " torch.Size([40, 1]),\n",
              " torch.Size([10, 1]),\n",
              " torch.Size([10, 1]))"
            ]
          },
          "metadata": {},
          "execution_count": 42
        }
      ]
    },
    {
      "cell_type": "code",
      "source": [
        "def plot_predictions2(train_data = X_train, train_label = y_train, test_data=X_test, test_label=y_test, predictions = None):\n",
        "    plt.scatter(train_data, train_label,c='r', s=10,label='train data')\n",
        "    plt.scatter(test_data, test_label , c='b', s=10, label='test data')\n",
        "\n",
        "    if predictions is not None:\n",
        "        plt.scatter(test_data, predictions, c='g',s=6, label='predictions')\n",
        "\n",
        "    plt.legend(prop={'size':14});"
      ],
      "metadata": {
        "id": "dZLJCxjCQk6o"
      },
      "execution_count": null,
      "outputs": []
    },
    {
      "cell_type": "code",
      "source": [
        "plot_predictions2()"
      ],
      "metadata": {
        "colab": {
          "base_uri": "https://localhost:8080/",
          "height": 430
        },
        "id": "oqT5xyo-Sbcw",
        "outputId": "8430b98a-2915-4168-c5d3-3be0b88e6af0"
      },
      "execution_count": null,
      "outputs": [
        {
          "output_type": "display_data",
          "data": {
            "text/plain": [
              "<Figure size 640x480 with 1 Axes>"
            ],
            "image/png": "[encoded data removed]"
          },
          "metadata": {}
        }
      ]
    },
    {
      "cell_type": "code",
      "source": [
        "## Buildiing a Pytorch linear model"
      ],
      "metadata": {
        "id": "_tn-7EwGSd2b"
      },
      "execution_count": null,
      "outputs": []
    },
    {
      "cell_type": "code",
      "source": [
        "class LinearRegressionModel2(nn.Module):\n",
        "    def __init__(self):\n",
        "        super().__init__()\n",
        "        self.weight = nn.Parameter(torch.randn(1, requires_grad=True, dtype=torch.float32))\n",
        "        self.bias = nn.Parameter(torch.randn(1,requires_grad=True, dtype=torch.float32))\n",
        "    def forward(self, x):\n",
        "        return self.weight*x+self.bias\n",
        "\n"
      ],
      "metadata": {
        "id": "sS56kH3cSshL"
      },
      "execution_count": null,
      "outputs": []
    },
    {
      "cell_type": "code",
      "source": [
        "class LinearRegressionModel3(nn.Module):\n",
        "    def __init__(self):\n",
        "        super().__init__()\n",
        "        # use nn.Linear() for creating the model parameters\n",
        "        self.Linear_layer = nn.Linear(in_features=1, out_features=1)\n",
        "\n",
        "    def forward(self, x:torch.Tensor)-> torch.Tensor:\n",
        "        return self.Linear_layer(x)\n",
        "# set the manual seed\n",
        "torch.manual_seed(42)\n",
        "\n",
        "model_1 = LinearRegressionModel3()\n",
        "model_1, model_1.state_dict()"
      ],
      "metadata": {
        "colab": {
          "base_uri": "https://localhost:8080/"
        },
        "id": "wPwWEaj-Ts_w",
        "outputId": "ee68af60-6f6c-4e00-dd07-24c8a73f9754"
      },
      "execution_count": null,
      "outputs": [
        {
          "output_type": "execute_result",
          "data": {
            "text/plain": [
              "(LinearRegressionModel3(\n",
              "   (Linear_layer): Linear(in_features=1, out_features=1, bias=True)\n",
              " ),\n",
              " OrderedDict([('Linear_layer.weight', tensor([[0.7645]])),\n",
              "              ('Linear_layer.bias', tensor([0.8300]))]))"
            ]
          },
          "metadata": {},
          "execution_count": 53
        }
      ]
    },
    {
      "cell_type": "code",
      "source": [
        "next(model_1.parameters()).device"
      ],
      "metadata": {
        "colab": {
          "base_uri": "https://localhost:8080/"
        },
        "id": "IglP9mJDVOZp",
        "outputId": "7a00001e-88b6-4add-d2b2-a5af4976a31b"
      },
      "execution_count": null,
      "outputs": [
        {
          "output_type": "execute_result",
          "data": {
            "text/plain": [
              "device(type='cpu')"
            ]
          },
          "metadata": {},
          "execution_count": 58
        }
      ]
    },
    {
      "cell_type": "markdown",
      "source": [
        "## training\n",
        "for training we need\n",
        "* loss function\n",
        "* optimizer\n",
        "* training loop\n",
        "* testing loop\n"
      ],
      "metadata": {
        "id": "lLm4Aj8FZeUS"
      }
    },
    {
      "cell_type": "code",
      "source": [
        "# set up loop function\n",
        "loss_fuc = nn.L1Loss()\n",
        "\n",
        "# set up optimizer\n",
        "optimizer = torch.optim.SGD(params=model_1.parameters(), lr=0.01)\n"
      ],
      "metadata": {
        "id": "4Vh_3ZoxY9BB"
      },
      "execution_count": null,
      "outputs": []
    },
    {
      "cell_type": "code",
      "source": [
        "#Let's write a training loop\n",
        "torch.manual_seed(42)\n",
        "\n",
        "epoches = 200\n",
        "for epoch in range(epoches):\n",
        "    # train loop\n",
        "    model_1.train()\n",
        "\n",
        "    #1 forward pass\n",
        "    y_pred = model_1.forward(X_train)\n",
        "\n",
        "    #2 calculate the loss\n",
        "    loss = loss_fuc(y_pred, y_train)\n",
        "\n",
        "    #3 optimiser zero grad\n",
        "    optimizer.zero_grad()\n",
        "\n",
        "    #4. Perfrom backpropagation\n",
        "    loss.backward()\n",
        "\n",
        "    #5. Optimizer step\n",
        "    optimizer.step()\n",
        "\n",
        "\n",
        "    # test loop\n",
        "    model_1.eval()\n",
        "\n",
        "    with torch.inference_mode():\n",
        "        test_pred = model_1(X_test)\n",
        "        test_loss =  loss_fn(test_pred, y_test)\n",
        "\n",
        "    # print out whats happening\n",
        "\n",
        "    if epoch %10==0:\n",
        "        print(f\"Epoch :{epoch} | Loss: {loss} | Test loss :{test_loss}\")\n",
        "\n",
        "\n",
        "\n"
      ],
      "metadata": {
        "colab": {
          "base_uri": "https://localhost:8080/"
        },
        "id": "P0CVhLI4ZEPy",
        "outputId": "707f4e34-f2db-4947-9dfb-b079cb089669"
      },
      "execution_count": null,
      "outputs": [
        {
          "output_type": "stream",
          "name": "stdout",
          "text": [
            "Epoch :0 | Loss: 0.0032001198269426823 | Test loss :0.006601977162063122\n",
            "Epoch :10 | Loss: 0.007839879021048546 | Test loss :0.0006959676975384355\n",
            "Epoch :20 | Loss: 0.007839879021048546 | Test loss :0.0006959676975384355\n",
            "Epoch :30 | Loss: 0.007839879021048546 | Test loss :0.0006959676975384355\n",
            "Epoch :40 | Loss: 0.007839879021048546 | Test loss :0.0006959676975384355\n",
            "Epoch :50 | Loss: 0.007839879021048546 | Test loss :0.0006959676975384355\n",
            "Epoch :60 | Loss: 0.007839879021048546 | Test loss :0.0006959676975384355\n",
            "Epoch :70 | Loss: 0.007839879021048546 | Test loss :0.0006959676975384355\n",
            "Epoch :80 | Loss: 0.007839879021048546 | Test loss :0.0006959676975384355\n",
            "Epoch :90 | Loss: 0.007839879021048546 | Test loss :0.0006959676975384355\n",
            "Epoch :100 | Loss: 0.007839879021048546 | Test loss :0.0006959676975384355\n",
            "Epoch :110 | Loss: 0.007839879021048546 | Test loss :0.0006959676975384355\n",
            "Epoch :120 | Loss: 0.007839879021048546 | Test loss :0.0006959676975384355\n",
            "Epoch :130 | Loss: 0.007839879021048546 | Test loss :0.0006959676975384355\n",
            "Epoch :140 | Loss: 0.007839879021048546 | Test loss :0.0006959676975384355\n",
            "Epoch :150 | Loss: 0.007839879021048546 | Test loss :0.0006959676975384355\n",
            "Epoch :160 | Loss: 0.007839879021048546 | Test loss :0.0006959676975384355\n",
            "Epoch :170 | Loss: 0.007839879021048546 | Test loss :0.0006959676975384355\n",
            "Epoch :180 | Loss: 0.007839879021048546 | Test loss :0.0006959676975384355\n",
            "Epoch :190 | Loss: 0.007839879021048546 | Test loss :0.0006959676975384355\n"
          ]
        }
      ]
    },
    {
      "cell_type": "code",
      "source": [
        "model_1.state_dict()"
      ],
      "metadata": {
        "colab": {
          "base_uri": "https://localhost:8080/"
        },
        "id": "XndDLaSkc7gd",
        "outputId": "e79740e3-79d2-4ee4-9687-5c794fb16ef8"
      },
      "execution_count": null,
      "outputs": [
        {
          "output_type": "execute_result",
          "data": {
            "text/plain": [
              "OrderedDict([('Linear_layer.weight', tensor([[0.8901]])),\n",
              "             ('Linear_layer.bias', tensor([0.2960]))])"
            ]
          },
          "metadata": {},
          "execution_count": 63
        }
      ]
    },
    {
      "cell_type": "code",
      "source": [
        "model_1.eval()\n",
        "with torch.inference_mode():\n",
        "    y_pred = model_1(X_test)\n",
        "\n",
        "y_pred"
      ],
      "metadata": {
        "colab": {
          "base_uri": "https://localhost:8080/"
        },
        "id": "3vYuCPcTdCak",
        "outputId": "7926871f-1d49-44e1-fa8b-d4085ba4e4f2"
      },
      "execution_count": null,
      "outputs": [
        {
          "output_type": "execute_result",
          "data": {
            "text/plain": [
              "tensor([[1.0081],\n",
              "        [1.0259],\n",
              "        [1.0437],\n",
              "        [1.0615],\n",
              "        [1.0793],\n",
              "        [1.0971],\n",
              "        [1.1149],\n",
              "        [1.1327],\n",
              "        [1.1505],\n",
              "        [1.1683]])"
            ]
          },
          "metadata": {},
          "execution_count": 69
        }
      ]
    },
    {
      "cell_type": "code",
      "source": [
        "plot_predictions2(predictions=y_pred)"
      ],
      "metadata": {
        "colab": {
          "base_uri": "https://localhost:8080/",
          "height": 430
        },
        "id": "beQXGvq_dnG3",
        "outputId": "76403525-93a7-4fa9-f05c-5b50ca401a25"
      },
      "execution_count": null,
      "outputs": [
        {
          "output_type": "display_data",
          "data": {
            "text/plain": [
              "<Figure size 640x480 with 1 Axes>"
            ],
            "image/png": "[encoded data removed]"
          },
          "metadata": {}
        }
      ]
    },
    {
      "cell_type": "code",
      "source": [
        "from pathlib import Path\n",
        "print(Path())\n",
        "Model_path = Path()/'models'\n",
        "model_name = 'trying_save0.pth'\n",
        "\n",
        "torch.save(obj = model_1.state_dict(), f = Model_path/model_name)\n"
      ],
      "metadata": {
        "colab": {
          "base_uri": "https://localhost:8080/"
        },
        "id": "wayaL3nadrN9",
        "outputId": "de008e9f-70fd-473b-92f6-bb1cb26af578"
      },
      "execution_count": null,
      "outputs": [
        {
          "output_type": "stream",
          "name": "stdout",
          "text": [
            ".\n"
          ]
        }
      ]
    },
    {
      "cell_type": "code",
      "source": [
        "model_1_load = LinearRegressionModel3()\n",
        "pkl_file = torch.load(f=Model_path/model_name)\n",
        "\n",
        "model_1_load.load_state_dict(pkl_file)"
      ],
      "metadata": {
        "colab": {
          "base_uri": "https://localhost:8080/"
        },
        "id": "c1ibqFwOfMLl",
        "outputId": "28c4cd67-4b2f-4405-f049-8d85107ebe12"
      },
      "execution_count": null,
      "outputs": [
        {
          "output_type": "stream",
          "name": "stderr",
          "text": [
            "<ipython-input-75-84cfe2cb5d06>:2: FutureWarning: You are using `torch.load` with `weights_only=False` (the current default value), which uses the default pickle module implicitly. It is possible to construct malicious pickle data which will execute arbitrary code during unpickling (See https://github.com/pytorch/pytorch/blob/main/SECURITY.md#untrusted-models for more details). In a future release, the default value for `weights_only` will be flipped to `True`. This limits the functions that could be executed during unpickling. Arbitrary objects will no longer be allowed to be loaded via this mode unless they are explicitly allowlisted by the user via `torch.serialization.add_safe_globals`. We recommend you start setting `weights_only=True` for any use case where you don't have full control of the loaded file. Please open an issue on GitHub for any issues related to this experimental feature.\n",
            "  pkl_file = torch.load(f=Model_path/model_name)\n"
          ]
        },
        {
          "output_type": "execute_result",
          "data": {
            "text/plain": [
              "<All keys matched successfully>"
            ]
          },
          "metadata": {},
          "execution_count": 75
        }
      ]
    },
    {
      "cell_type": "code",
      "source": [
        "model_1.state_dict(), model_1_load.state_dict()"
      ],
      "metadata": {
        "colab": {
          "base_uri": "https://localhost:8080/"
        },
        "id": "fJcoBEZugVZe",
        "outputId": "7ff37c8a-39ab-46a8-84d4-098fab49e6d8"
      },
      "execution_count": null,
      "outputs": [
        {
          "output_type": "execute_result",
          "data": {
            "text/plain": [
              "(OrderedDict([('Linear_layer.weight', tensor([[0.8901]])),\n",
              "              ('Linear_layer.bias', tensor([0.2960]))]),\n",
              " OrderedDict([('Linear_layer.weight', tensor([[0.8901]])),\n",
              "              ('Linear_layer.bias', tensor([0.2960]))]))"
            ]
          },
          "metadata": {},
          "execution_count": 77
        }
      ]
    },
    {
      "cell_type": "code",
      "source": [],
      "metadata": {
        "id": "y9BKVGOsga9J"
      },
      "execution_count": null,
      "outputs": []
    }
  ]
}